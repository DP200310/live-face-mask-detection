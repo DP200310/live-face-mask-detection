{
 "cells": [
  {
   "cell_type": "code",
   "execution_count": 1,
   "id": "b952cf17",
   "metadata": {},
   "outputs": [],
   "source": [
    "import pandas as pd\n",
    "import numpy as np\n",
    "import matplotlib.pyplot as plt\n",
    "from keras.models import Sequential\n",
    "from keras.layers import Convolution2D\n",
    "from keras.layers import MaxPooling2D\n",
    "from keras.layers import Dense\n",
    "from keras.layers import Flatten\n",
    "from keras.callbacks import ModelCheckpoint\n",
    "from keras.models import load_model"
   ]
  },
  {
   "cell_type": "code",
   "execution_count": 2,
   "id": "cae99454",
   "metadata": {},
   "outputs": [],
   "source": [
    "model=Sequential()"
   ]
  },
  {
   "cell_type": "code",
   "execution_count": 3,
   "id": "c089de6c",
   "metadata": {},
   "outputs": [],
   "source": [
    "from keras.preprocessing.image import ImageDataGenerator\n",
    "train_datagen=ImageDataGenerator(rescale=1.0/255,rotation_range=40,width_shift_range=0.2,height_shift_range=0.2,shear_range=0.2,\n",
    "                                 zoom_range=0.2,horizontal_flip=True,fill_mode='nearest')\n",
    "test_datagen=ImageDataGenerator(rescale=1.0/255)"
   ]
  },
  {
   "cell_type": "code",
   "execution_count": 4,
   "id": "d92db965",
   "metadata": {},
   "outputs": [
    {
     "name": "stdout",
     "output_type": "stream",
     "text": [
      "Found 1315 images belonging to 2 classes.\n",
      "Found 194 images belonging to 2 classes.\n"
     ]
    }
   ],
   "source": [
    "training_set=train_datagen.flow_from_directory('C:/Users/Deepanshu/Downloads/Live Face Mask Detection project/face-mask-dataset/Dataset/train',\n",
    "                                               target_size=(150,150),batch_size=10)\n",
    "testing_set=test_datagen.flow_from_directory('C:\\',\n",
    "                                             target_size=(150,150),batch_size=10)"
   ]
  },
  {
   "cell_type": "code",
   "execution_count": 5,
   "id": "ff61db0e",
   "metadata": {},
   "outputs": [],
   "source": [
    "# LAYER 1\n",
    "model.add(Convolution2D(filters=200, kernel_size=3, activation='relu', input_shape=[150,150,3]))\n",
    "model.add(MaxPooling2D(pool_size=2, strides=2))\n",
    "\n",
    "\n",
    "# LAYER 2\n",
    "model.add(Convolution2D(filters=100, kernel_size=3, activation='relu'))\n",
    "model.add(MaxPooling2D(pool_size=2, strides=2))\n",
    "\n",
    "\n",
    "# FLATTEN\n",
    "model.add(Flatten())\n",
    "\n",
    "\n",
    "# DENSE LAYER\n",
    "model.add(Dense(units=50,activation='relu'))\n",
    "model.add(Dense(units=2,activation='softmax'))"
   ]
  },
  {
   "cell_type": "code",
   "execution_count": 6,
   "id": "af477657",
   "metadata": {},
   "outputs": [],
   "source": [
    "model.compile(optimizer='adam',loss='binary_crossentropy',metrics=['accuracy'])\n",
    "checkpoint = ModelCheckpoint('model-{epoch:03d}.model',monitor='val_loss',verbose=1,save_best_only=True,mode='auto')"
   ]
  },
  {
   "cell_type": "code",
   "execution_count": 7,
   "id": "0490aeb5",
   "metadata": {
    "scrolled": false
   },
   "outputs": [
    {
     "name": "stdout",
     "output_type": "stream",
     "text": [
      "Epoch 1/100\n",
      "132/132 [==============================] - ETA: 0s - loss: 0.7200 - accuracy: 0.4973\n",
      "Epoch 1: val_loss improved from inf to 0.70860, saving model to model-001.model\n"
     ]
    },
    {
     "name": "stderr",
     "output_type": "stream",
     "text": [
      "WARNING:absl:Found untraced functions such as _jit_compiled_convolution_op, _jit_compiled_convolution_op, _update_step_xla while saving (showing 3 of 3). These functions will not be directly callable after loading.\n"
     ]
    },
    {
     "name": "stdout",
     "output_type": "stream",
     "text": [
      "INFO:tensorflow:Assets written to: model-001.model\\assets\n"
     ]
    },
    {
     "name": "stderr",
     "output_type": "stream",
     "text": [
      "INFO:tensorflow:Assets written to: model-001.model\\assets\n"
     ]
    },
    {
     "name": "stdout",
     "output_type": "stream",
     "text": [
      "132/132 [==============================] - 116s 870ms/step - loss: 0.7200 - accuracy: 0.4973 - val_loss: 0.7086 - val_accuracy: 0.5000\n",
      "Epoch 2/100\n",
      "132/132 [==============================] - ETA: 0s - loss: 0.6786 - accuracy: 0.5620\n",
      "Epoch 2: val_loss improved from 0.70860 to 0.69333, saving model to model-002.model\n"
     ]
    },
    {
     "name": "stderr",
     "output_type": "stream",
     "text": [
      "WARNING:absl:Found untraced functions such as _jit_compiled_convolution_op, _jit_compiled_convolution_op, _update_step_xla while saving (showing 3 of 3). These functions will not be directly callable after loading.\n"
     ]
    },
    {
     "name": "stdout",
     "output_type": "stream",
     "text": [
      "INFO:tensorflow:Assets written to: model-002.model\\assets\n"
     ]
    },
    {
     "name": "stderr",
     "output_type": "stream",
     "text": [
      "INFO:tensorflow:Assets written to: model-002.model\\assets\n"
     ]
    },
    {
     "name": "stdout",
     "output_type": "stream",
     "text": [
      "132/132 [==============================] - 112s 846ms/step - loss: 0.6786 - accuracy: 0.5620 - val_loss: 0.6933 - val_accuracy: 0.5000\n",
      "Epoch 3/100\n",
      "132/132 [==============================] - ETA: 0s - loss: 0.6937 - accuracy: 0.4981\n",
      "Epoch 3: val_loss improved from 0.69333 to 0.69311, saving model to model-003.model\n"
     ]
    },
    {
     "name": "stderr",
     "output_type": "stream",
     "text": [
      "WARNING:absl:Found untraced functions such as _jit_compiled_convolution_op, _jit_compiled_convolution_op, _update_step_xla while saving (showing 3 of 3). These functions will not be directly callable after loading.\n"
     ]
    },
    {
     "name": "stdout",
     "output_type": "stream",
     "text": [
      "INFO:tensorflow:Assets written to: model-003.model\\assets\n"
     ]
    },
    {
     "name": "stderr",
     "output_type": "stream",
     "text": [
      "INFO:tensorflow:Assets written to: model-003.model\\assets\n"
     ]
    },
    {
     "name": "stdout",
     "output_type": "stream",
     "text": [
      "132/132 [==============================] - 113s 855ms/step - loss: 0.6937 - accuracy: 0.4981 - val_loss: 0.6931 - val_accuracy: 0.5000\n",
      "Epoch 4/100\n",
      "132/132 [==============================] - ETA: 0s - loss: 0.6933 - accuracy: 0.4996\n",
      "Epoch 4: val_loss improved from 0.69311 to 0.69308, saving model to model-004.model\n"
     ]
    },
    {
     "name": "stderr",
     "output_type": "stream",
     "text": [
      "WARNING:absl:Found untraced functions such as _jit_compiled_convolution_op, _jit_compiled_convolution_op, _update_step_xla while saving (showing 3 of 3). These functions will not be directly callable after loading.\n"
     ]
    },
    {
     "name": "stdout",
     "output_type": "stream",
     "text": [
      "INFO:tensorflow:Assets written to: model-004.model\\assets\n"
     ]
    },
    {
     "name": "stderr",
     "output_type": "stream",
     "text": [
      "INFO:tensorflow:Assets written to: model-004.model\\assets\n"
     ]
    },
    {
     "name": "stdout",
     "output_type": "stream",
     "text": [
      "132/132 [==============================] - 110s 836ms/step - loss: 0.6933 - accuracy: 0.4996 - val_loss: 0.6931 - val_accuracy: 0.5052\n",
      "Epoch 5/100\n",
      "132/132 [==============================] - ETA: 0s - loss: 0.6933 - accuracy: 0.4989\n",
      "Epoch 5: val_loss improved from 0.69308 to 0.69300, saving model to model-005.model\n"
     ]
    },
    {
     "name": "stderr",
     "output_type": "stream",
     "text": [
      "WARNING:absl:Found untraced functions such as _jit_compiled_convolution_op, _jit_compiled_convolution_op, _update_step_xla while saving (showing 3 of 3). These functions will not be directly callable after loading.\n"
     ]
    },
    {
     "name": "stdout",
     "output_type": "stream",
     "text": [
      "INFO:tensorflow:Assets written to: model-005.model\\assets\n"
     ]
    },
    {
     "name": "stderr",
     "output_type": "stream",
     "text": [
      "INFO:tensorflow:Assets written to: model-005.model\\assets\n"
     ]
    },
    {
     "name": "stdout",
     "output_type": "stream",
     "text": [
      "132/132 [==============================] - 110s 833ms/step - loss: 0.6933 - accuracy: 0.4989 - val_loss: 0.6930 - val_accuracy: 0.5155\n",
      "Epoch 6/100\n",
      "132/132 [==============================] - ETA: 0s - loss: 0.6933 - accuracy: 0.4776\n",
      "Epoch 6: val_loss did not improve from 0.69300\n",
      "132/132 [==============================] - 115s 871ms/step - loss: 0.6933 - accuracy: 0.4776 - val_loss: 0.6930 - val_accuracy: 0.5052\n",
      "Epoch 7/100\n",
      "132/132 [==============================] - ETA: 0s - loss: 0.6933 - accuracy: 0.4897\n",
      "Epoch 7: val_loss did not improve from 0.69300\n",
      "132/132 [==============================] - 96s 724ms/step - loss: 0.6933 - accuracy: 0.4897 - val_loss: 0.6931 - val_accuracy: 0.5000\n",
      "Epoch 8/100\n",
      "132/132 [==============================] - ETA: 0s - loss: 0.6933 - accuracy: 0.4806\n",
      "Epoch 8: val_loss did not improve from 0.69300\n",
      "132/132 [==============================] - 97s 735ms/step - loss: 0.6933 - accuracy: 0.4806 - val_loss: 0.6931 - val_accuracy: 0.5000\n",
      "Epoch 9/100\n",
      "132/132 [==============================] - ETA: 0s - loss: 0.6933 - accuracy: 0.5004\n",
      "Epoch 9: val_loss did not improve from 0.69300\n",
      "132/132 [==============================] - 98s 738ms/step - loss: 0.6933 - accuracy: 0.5004 - val_loss: 0.6931 - val_accuracy: 0.5000\n",
      "Epoch 10/100\n",
      "132/132 [==============================] - ETA: 0s - loss: 0.6933 - accuracy: 0.4852\n",
      "Epoch 10: val_loss did not improve from 0.69300\n",
      "132/132 [==============================] - 98s 745ms/step - loss: 0.6933 - accuracy: 0.4852 - val_loss: 0.6931 - val_accuracy: 0.5000\n",
      "Epoch 11/100\n",
      "132/132 [==============================] - ETA: 0s - loss: 0.6933 - accuracy: 0.4844\n",
      "Epoch 11: val_loss did not improve from 0.69300\n",
      "132/132 [==============================] - 99s 752ms/step - loss: 0.6933 - accuracy: 0.4844 - val_loss: 0.6931 - val_accuracy: 0.5000\n",
      "Epoch 12/100\n",
      "132/132 [==============================] - ETA: 0s - loss: 0.6933 - accuracy: 0.4882\n",
      "Epoch 12: val_loss did not improve from 0.69300\n",
      "132/132 [==============================] - 93s 703ms/step - loss: 0.6933 - accuracy: 0.4882 - val_loss: 0.6931 - val_accuracy: 0.5155\n",
      "Epoch 13/100\n",
      "132/132 [==============================] - ETA: 0s - loss: 0.6932 - accuracy: 0.4935\n",
      "Epoch 13: val_loss did not improve from 0.69300\n",
      "132/132 [==============================] - 93s 701ms/step - loss: 0.6932 - accuracy: 0.4935 - val_loss: 0.6931 - val_accuracy: 0.4948\n",
      "Epoch 14/100\n",
      "132/132 [==============================] - ETA: 0s - loss: 0.7037 - accuracy: 0.4745\n",
      "Epoch 14: val_loss did not improve from 0.69300\n",
      "132/132 [==============================] - 94s 713ms/step - loss: 0.7037 - accuracy: 0.4745 - val_loss: 0.6931 - val_accuracy: 0.5000\n",
      "Epoch 15/100\n",
      "132/132 [==============================] - ETA: 0s - loss: 0.6932 - accuracy: 0.4798\n",
      "Epoch 15: val_loss did not improve from 0.69300\n",
      "132/132 [==============================] - 101s 764ms/step - loss: 0.6932 - accuracy: 0.4798 - val_loss: 0.6931 - val_accuracy: 0.5000\n",
      "Epoch 16/100\n",
      "132/132 [==============================] - ETA: 0s - loss: 0.6933 - accuracy: 0.4662\n",
      "Epoch 16: val_loss did not improve from 0.69300\n",
      "132/132 [==============================] - 94s 713ms/step - loss: 0.6933 - accuracy: 0.4662 - val_loss: 0.6932 - val_accuracy: 0.5000\n",
      "Epoch 17/100\n",
      "132/132 [==============================] - ETA: 0s - loss: 0.6933 - accuracy: 0.4875\n",
      "Epoch 17: val_loss did not improve from 0.69300\n",
      "132/132 [==============================] - 97s 736ms/step - loss: 0.6933 - accuracy: 0.4875 - val_loss: 0.6932 - val_accuracy: 0.5000\n",
      "Epoch 18/100\n",
      "132/132 [==============================] - ETA: 0s - loss: 0.6933 - accuracy: 0.4768\n",
      "Epoch 18: val_loss did not improve from 0.69300\n",
      "132/132 [==============================] - 100s 757ms/step - loss: 0.6933 - accuracy: 0.4768 - val_loss: 0.6932 - val_accuracy: 0.5000\n",
      "Epoch 19/100\n",
      "132/132 [==============================] - ETA: 0s - loss: 0.6934 - accuracy: 0.4798\n",
      "Epoch 19: val_loss did not improve from 0.69300\n",
      "132/132 [==============================] - 105s 796ms/step - loss: 0.6934 - accuracy: 0.4798 - val_loss: 0.6932 - val_accuracy: 0.5000\n",
      "Epoch 20/100\n",
      "132/132 [==============================] - ETA: 0s - loss: 0.6933 - accuracy: 0.4548\n",
      "Epoch 20: val_loss did not improve from 0.69300\n",
      "132/132 [==============================] - 107s 807ms/step - loss: 0.6933 - accuracy: 0.4548 - val_loss: 0.6932 - val_accuracy: 0.5000\n",
      "Epoch 21/100\n",
      "132/132 [==============================] - ETA: 0s - loss: 0.6932 - accuracy: 0.5004\n",
      "Epoch 21: val_loss did not improve from 0.69300\n",
      "132/132 [==============================] - 109s 825ms/step - loss: 0.6932 - accuracy: 0.5004 - val_loss: 0.6931 - val_accuracy: 0.5000\n",
      "Epoch 22/100\n",
      "132/132 [==============================] - ETA: 0s - loss: 0.6932 - accuracy: 0.5004\n",
      "Epoch 22: val_loss did not improve from 0.69300\n",
      "132/132 [==============================] - 111s 837ms/step - loss: 0.6932 - accuracy: 0.5004 - val_loss: 0.6931 - val_accuracy: 0.5000\n",
      "Epoch 23/100\n",
      "132/132 [==============================] - ETA: 0s - loss: 0.6933 - accuracy: 0.4684\n",
      "Epoch 23: val_loss did not improve from 0.69300\n",
      "132/132 [==============================] - 109s 827ms/step - loss: 0.6933 - accuracy: 0.4684 - val_loss: 0.6931 - val_accuracy: 0.5000\n",
      "Epoch 24/100\n",
      "132/132 [==============================] - ETA: 0s - loss: 0.6933 - accuracy: 0.4760\n",
      "Epoch 24: val_loss did not improve from 0.69300\n",
      "132/132 [==============================] - 110s 831ms/step - loss: 0.6933 - accuracy: 0.4760 - val_loss: 0.6931 - val_accuracy: 0.5000\n",
      "Epoch 25/100\n",
      "132/132 [==============================] - ETA: 0s - loss: 0.6933 - accuracy: 0.4829\n",
      "Epoch 25: val_loss did not improve from 0.69300\n",
      "132/132 [==============================] - 110s 829ms/step - loss: 0.6933 - accuracy: 0.4829 - val_loss: 0.6931 - val_accuracy: 0.5000\n",
      "Epoch 26/100\n",
      "132/132 [==============================] - ETA: 0s - loss: 0.6932 - accuracy: 0.4768\n",
      "Epoch 26: val_loss did not improve from 0.69300\n",
      "132/132 [==============================] - 108s 815ms/step - loss: 0.6932 - accuracy: 0.4768 - val_loss: 0.6931 - val_accuracy: 0.5000\n",
      "Epoch 27/100\n",
      "132/132 [==============================] - ETA: 0s - loss: 0.6932 - accuracy: 0.4928\n",
      "Epoch 27: val_loss did not improve from 0.69300\n",
      "132/132 [==============================] - 98s 740ms/step - loss: 0.6932 - accuracy: 0.4928 - val_loss: 0.6931 - val_accuracy: 0.5000\n",
      "Epoch 28/100\n",
      "132/132 [==============================] - ETA: 0s - loss: 0.6933 - accuracy: 0.4981\n",
      "Epoch 28: val_loss did not improve from 0.69300\n",
      "132/132 [==============================] - 111s 845ms/step - loss: 0.6933 - accuracy: 0.4981 - val_loss: 0.6931 - val_accuracy: 0.5000\n",
      "Epoch 29/100\n",
      "132/132 [==============================] - ETA: 0s - loss: 0.6933 - accuracy: 0.4654\n",
      "Epoch 29: val_loss did not improve from 0.69300\n",
      "132/132 [==============================] - 112s 849ms/step - loss: 0.6933 - accuracy: 0.4654 - val_loss: 0.6932 - val_accuracy: 0.5000\n",
      "Epoch 30/100\n",
      "132/132 [==============================] - ETA: 0s - loss: 0.6932 - accuracy: 0.5004\n",
      "Epoch 30: val_loss did not improve from 0.69300\n",
      "132/132 [==============================] - 113s 853ms/step - loss: 0.6932 - accuracy: 0.5004 - val_loss: 0.6932 - val_accuracy: 0.5000\n",
      "Epoch 31/100\n",
      "132/132 [==============================] - ETA: 0s - loss: 0.6932 - accuracy: 0.4951\n",
      "Epoch 31: val_loss did not improve from 0.69300\n",
      "132/132 [==============================] - 113s 855ms/step - loss: 0.6932 - accuracy: 0.4951 - val_loss: 0.6931 - val_accuracy: 0.5000\n",
      "Epoch 32/100\n",
      "132/132 [==============================] - ETA: 0s - loss: 0.6934 - accuracy: 0.4867\n",
      "Epoch 32: val_loss did not improve from 0.69300\n",
      "132/132 [==============================] - 115s 873ms/step - loss: 0.6934 - accuracy: 0.4867 - val_loss: 0.6931 - val_accuracy: 0.5000\n",
      "Epoch 33/100\n",
      "132/132 [==============================] - ETA: 0s - loss: 0.6932 - accuracy: 0.4951\n",
      "Epoch 33: val_loss did not improve from 0.69300\n",
      "132/132 [==============================] - 99s 746ms/step - loss: 0.6932 - accuracy: 0.4951 - val_loss: 0.6931 - val_accuracy: 0.5000\n",
      "Epoch 34/100\n",
      "132/132 [==============================] - ETA: 0s - loss: 0.6933 - accuracy: 0.4913\n",
      "Epoch 34: val_loss did not improve from 0.69300\n",
      "132/132 [==============================] - 96s 725ms/step - loss: 0.6933 - accuracy: 0.4913 - val_loss: 0.6931 - val_accuracy: 0.5000\n"
     ]
    },
    {
     "name": "stdout",
     "output_type": "stream",
     "text": [
      "Epoch 35/100\n",
      "132/132 [==============================] - ETA: 0s - loss: 0.6932 - accuracy: 0.4829\n",
      "Epoch 35: val_loss did not improve from 0.69300\n",
      "132/132 [==============================] - 97s 734ms/step - loss: 0.6932 - accuracy: 0.4829 - val_loss: 0.6931 - val_accuracy: 0.5052\n",
      "Epoch 36/100\n",
      "132/132 [==============================] - ETA: 0s - loss: 0.6933 - accuracy: 0.4928\n",
      "Epoch 36: val_loss did not improve from 0.69300\n",
      "132/132 [==============================] - 96s 726ms/step - loss: 0.6933 - accuracy: 0.4928 - val_loss: 0.6931 - val_accuracy: 0.5000\n",
      "Epoch 37/100\n",
      "132/132 [==============================] - ETA: 0s - loss: 0.6933 - accuracy: 0.4859\n",
      "Epoch 37: val_loss did not improve from 0.69300\n",
      "132/132 [==============================] - 96s 723ms/step - loss: 0.6933 - accuracy: 0.4859 - val_loss: 0.6931 - val_accuracy: 0.5000\n",
      "Epoch 38/100\n",
      "132/132 [==============================] - ETA: 0s - loss: 0.6975 - accuracy: 0.5072\n",
      "Epoch 38: val_loss did not improve from 0.69300\n",
      "132/132 [==============================] - 95s 720ms/step - loss: 0.6975 - accuracy: 0.5072 - val_loss: 0.6931 - val_accuracy: 0.5000\n",
      "Epoch 39/100\n",
      "132/132 [==============================] - ETA: 0s - loss: 0.6933 - accuracy: 0.4996\n",
      "Epoch 39: val_loss did not improve from 0.69300\n",
      "132/132 [==============================] - 94s 714ms/step - loss: 0.6933 - accuracy: 0.4996 - val_loss: 0.6932 - val_accuracy: 0.5000\n",
      "Epoch 40/100\n",
      "132/132 [==============================] - ETA: 0s - loss: 0.6933 - accuracy: 0.4844\n",
      "Epoch 40: val_loss did not improve from 0.69300\n",
      "132/132 [==============================] - 95s 719ms/step - loss: 0.6933 - accuracy: 0.4844 - val_loss: 0.6931 - val_accuracy: 0.5000\n",
      "Epoch 41/100\n",
      "132/132 [==============================] - ETA: 0s - loss: 0.6932 - accuracy: 0.4920\n",
      "Epoch 41: val_loss did not improve from 0.69300\n",
      "132/132 [==============================] - 95s 718ms/step - loss: 0.6932 - accuracy: 0.4920 - val_loss: 0.6931 - val_accuracy: 0.5000\n",
      "Epoch 42/100\n",
      "132/132 [==============================] - ETA: 0s - loss: 0.6932 - accuracy: 0.5004\n",
      "Epoch 42: val_loss did not improve from 0.69300\n",
      "132/132 [==============================] - 95s 716ms/step - loss: 0.6932 - accuracy: 0.5004 - val_loss: 0.6931 - val_accuracy: 0.5000\n",
      "Epoch 43/100\n",
      "132/132 [==============================] - ETA: 0s - loss: 0.6932 - accuracy: 0.5004\n",
      "Epoch 43: val_loss did not improve from 0.69300\n",
      "132/132 [==============================] - 95s 716ms/step - loss: 0.6932 - accuracy: 0.5004 - val_loss: 0.6931 - val_accuracy: 0.5000\n",
      "Epoch 44/100\n",
      "132/132 [==============================] - ETA: 0s - loss: 0.6934 - accuracy: 0.4928\n",
      "Epoch 44: val_loss did not improve from 0.69300\n",
      "132/132 [==============================] - 95s 716ms/step - loss: 0.6934 - accuracy: 0.4928 - val_loss: 0.6931 - val_accuracy: 0.5000\n",
      "Epoch 45/100\n",
      "132/132 [==============================] - ETA: 0s - loss: 0.6932 - accuracy: 0.4973\n",
      "Epoch 45: val_loss did not improve from 0.69300\n",
      "132/132 [==============================] - 95s 718ms/step - loss: 0.6932 - accuracy: 0.4973 - val_loss: 0.6931 - val_accuracy: 0.5000\n",
      "Epoch 46/100\n",
      "132/132 [==============================] - ETA: 0s - loss: 0.6932 - accuracy: 0.4928\n",
      "Epoch 46: val_loss did not improve from 0.69300\n",
      "132/132 [==============================] - 96s 725ms/step - loss: 0.6932 - accuracy: 0.4928 - val_loss: 0.6931 - val_accuracy: 0.5000\n",
      "Epoch 47/100\n",
      "132/132 [==============================] - ETA: 0s - loss: 0.6933 - accuracy: 0.4768\n",
      "Epoch 47: val_loss did not improve from 0.69300\n",
      "132/132 [==============================] - 96s 723ms/step - loss: 0.6933 - accuracy: 0.4768 - val_loss: 0.6931 - val_accuracy: 0.5000\n",
      "Epoch 48/100\n",
      "132/132 [==============================] - ETA: 0s - loss: 0.6932 - accuracy: 0.5004\n",
      "Epoch 48: val_loss did not improve from 0.69300\n",
      "132/132 [==============================] - 96s 730ms/step - loss: 0.6932 - accuracy: 0.5004 - val_loss: 0.6931 - val_accuracy: 0.5000\n",
      "Epoch 49/100\n",
      "132/132 [==============================] - ETA: 0s - loss: 0.6933 - accuracy: 0.4935\n",
      "Epoch 49: val_loss did not improve from 0.69300\n",
      "132/132 [==============================] - 97s 732ms/step - loss: 0.6933 - accuracy: 0.4935 - val_loss: 0.6932 - val_accuracy: 0.5000\n",
      "Epoch 50/100\n",
      "132/132 [==============================] - ETA: 0s - loss: 0.6932 - accuracy: 0.4859\n",
      "Epoch 50: val_loss did not improve from 0.69300\n",
      "132/132 [==============================] - 97s 731ms/step - loss: 0.6932 - accuracy: 0.4859 - val_loss: 0.6931 - val_accuracy: 0.5000\n",
      "Epoch 51/100\n",
      "132/132 [==============================] - ETA: 0s - loss: 0.6932 - accuracy: 0.4897\n",
      "Epoch 51: val_loss did not improve from 0.69300\n",
      "132/132 [==============================] - 96s 725ms/step - loss: 0.6932 - accuracy: 0.4897 - val_loss: 0.6931 - val_accuracy: 0.5000\n",
      "Epoch 52/100\n",
      "132/132 [==============================] - ETA: 0s - loss: 0.6932 - accuracy: 0.4837\n",
      "Epoch 52: val_loss did not improve from 0.69300\n",
      "132/132 [==============================] - 96s 725ms/step - loss: 0.6932 - accuracy: 0.4837 - val_loss: 0.6931 - val_accuracy: 0.5000\n",
      "Epoch 53/100\n",
      "132/132 [==============================] - ETA: 0s - loss: 0.6933 - accuracy: 0.4920\n",
      "Epoch 53: val_loss did not improve from 0.69300\n",
      "132/132 [==============================] - 95s 719ms/step - loss: 0.6933 - accuracy: 0.4920 - val_loss: 0.6931 - val_accuracy: 0.5000\n",
      "Epoch 54/100\n",
      "132/132 [==============================] - ETA: 0s - loss: 0.6932 - accuracy: 0.4905\n",
      "Epoch 54: val_loss did not improve from 0.69300\n",
      "132/132 [==============================] - 96s 724ms/step - loss: 0.6932 - accuracy: 0.4905 - val_loss: 0.6931 - val_accuracy: 0.5000\n",
      "Epoch 55/100\n",
      "132/132 [==============================] - ETA: 0s - loss: 0.6932 - accuracy: 0.5004\n",
      "Epoch 55: val_loss did not improve from 0.69300\n",
      "132/132 [==============================] - 96s 725ms/step - loss: 0.6932 - accuracy: 0.5004 - val_loss: 0.6931 - val_accuracy: 0.5000\n",
      "Epoch 56/100\n",
      "132/132 [==============================] - ETA: 0s - loss: 0.6933 - accuracy: 0.4951\n",
      "Epoch 56: val_loss did not improve from 0.69300\n",
      "132/132 [==============================] - 95s 717ms/step - loss: 0.6933 - accuracy: 0.4951 - val_loss: 0.6931 - val_accuracy: 0.5000\n",
      "Epoch 57/100\n",
      "132/132 [==============================] - ETA: 0s - loss: 0.6933 - accuracy: 0.5004\n",
      "Epoch 57: val_loss did not improve from 0.69300\n",
      "132/132 [==============================] - 98s 745ms/step - loss: 0.6933 - accuracy: 0.5004 - val_loss: 0.6932 - val_accuracy: 0.5000\n",
      "Epoch 58/100\n",
      "132/132 [==============================] - ETA: 0s - loss: 0.6933 - accuracy: 0.4745\n",
      "Epoch 58: val_loss did not improve from 0.69300\n",
      "132/132 [==============================] - 98s 745ms/step - loss: 0.6933 - accuracy: 0.4745 - val_loss: 0.6932 - val_accuracy: 0.5000\n",
      "Epoch 59/100\n",
      "132/132 [==============================] - ETA: 0s - loss: 0.6933 - accuracy: 0.4928\n",
      "Epoch 59: val_loss did not improve from 0.69300\n",
      "132/132 [==============================] - 97s 738ms/step - loss: 0.6933 - accuracy: 0.4928 - val_loss: 0.6931 - val_accuracy: 0.5000\n",
      "Epoch 60/100\n",
      "132/132 [==============================] - ETA: 0s - loss: 0.6932 - accuracy: 0.4837\n",
      "Epoch 60: val_loss did not improve from 0.69300\n",
      "132/132 [==============================] - 97s 732ms/step - loss: 0.6932 - accuracy: 0.4837 - val_loss: 0.6932 - val_accuracy: 0.5000\n",
      "Epoch 61/100\n",
      "132/132 [==============================] - ETA: 0s - loss: 0.6932 - accuracy: 0.5004\n",
      "Epoch 61: val_loss did not improve from 0.69300\n",
      "132/132 [==============================] - 95s 721ms/step - loss: 0.6932 - accuracy: 0.5004 - val_loss: 0.6932 - val_accuracy: 0.5000\n",
      "Epoch 62/100\n",
      "132/132 [==============================] - ETA: 0s - loss: 0.6933 - accuracy: 0.4897\n",
      "Epoch 62: val_loss did not improve from 0.69300\n",
      "132/132 [==============================] - 96s 730ms/step - loss: 0.6933 - accuracy: 0.4897 - val_loss: 0.6931 - val_accuracy: 0.5000\n",
      "Epoch 63/100\n",
      "132/132 [==============================] - ETA: 0s - loss: 0.6932 - accuracy: 0.4776\n",
      "Epoch 63: val_loss did not improve from 0.69300\n",
      "132/132 [==============================] - 112s 845ms/step - loss: 0.6932 - accuracy: 0.4776 - val_loss: 0.6931 - val_accuracy: 0.5000\n",
      "Epoch 64/100\n",
      "132/132 [==============================] - ETA: 0s - loss: 0.6932 - accuracy: 0.4928\n",
      "Epoch 64: val_loss did not improve from 0.69300\n",
      "132/132 [==============================] - 118s 894ms/step - loss: 0.6932 - accuracy: 0.4928 - val_loss: 0.6931 - val_accuracy: 0.5000\n",
      "Epoch 65/100\n",
      "132/132 [==============================] - ETA: 0s - loss: 0.6933 - accuracy: 0.4951\n",
      "Epoch 65: val_loss did not improve from 0.69300\n",
      "132/132 [==============================] - 115s 867ms/step - loss: 0.6933 - accuracy: 0.4951 - val_loss: 0.6932 - val_accuracy: 0.5000\n",
      "Epoch 66/100\n",
      "132/132 [==============================] - ETA: 0s - loss: 0.6932 - accuracy: 0.5004\n",
      "Epoch 66: val_loss did not improve from 0.69300\n",
      "132/132 [==============================] - 114s 865ms/step - loss: 0.6932 - accuracy: 0.5004 - val_loss: 0.6931 - val_accuracy: 0.5000\n",
      "Epoch 67/100\n",
      "132/132 [==============================] - ETA: 0s - loss: 0.6932 - accuracy: 0.4943\n",
      "Epoch 67: val_loss did not improve from 0.69300\n",
      "132/132 [==============================] - 114s 861ms/step - loss: 0.6932 - accuracy: 0.4943 - val_loss: 0.6931 - val_accuracy: 0.5000\n",
      "Epoch 68/100\n",
      "132/132 [==============================] - ETA: 0s - loss: 0.6933 - accuracy: 0.4745\n",
      "Epoch 68: val_loss did not improve from 0.69300\n",
      "132/132 [==============================] - 111s 840ms/step - loss: 0.6933 - accuracy: 0.4745 - val_loss: 0.6931 - val_accuracy: 0.5000\n",
      "Epoch 69/100\n",
      "132/132 [==============================] - ETA: 0s - loss: 0.6932 - accuracy: 0.4897\n",
      "Epoch 69: val_loss did not improve from 0.69300\n",
      "132/132 [==============================] - 107s 811ms/step - loss: 0.6932 - accuracy: 0.4897 - val_loss: 0.6931 - val_accuracy: 0.5000\n",
      "Epoch 70/100\n",
      "132/132 [==============================] - ETA: 0s - loss: 0.6932 - accuracy: 0.5004\n",
      "Epoch 70: val_loss did not improve from 0.69300\n",
      "132/132 [==============================] - 108s 821ms/step - loss: 0.6932 - accuracy: 0.5004 - val_loss: 0.6931 - val_accuracy: 0.5000\n",
      "Epoch 71/100\n",
      "132/132 [==============================] - ETA: 0s - loss: 0.6932 - accuracy: 0.5004\n",
      "Epoch 71: val_loss did not improve from 0.69300\n",
      "132/132 [==============================] - 108s 816ms/step - loss: 0.6932 - accuracy: 0.5004 - val_loss: 0.6931 - val_accuracy: 0.5000\n",
      "Epoch 72/100\n",
      "132/132 [==============================] - ETA: 0s - loss: 0.6932 - accuracy: 0.4882\n",
      "Epoch 72: val_loss did not improve from 0.69300\n",
      "132/132 [==============================] - 107s 814ms/step - loss: 0.6932 - accuracy: 0.4882 - val_loss: 0.6931 - val_accuracy: 0.5000\n",
      "Epoch 73/100\n",
      "132/132 [==============================] - ETA: 0s - loss: 0.6933 - accuracy: 0.4951\n",
      "Epoch 73: val_loss did not improve from 0.69300\n",
      "132/132 [==============================] - 108s 815ms/step - loss: 0.6933 - accuracy: 0.4951 - val_loss: 0.6931 - val_accuracy: 0.5000\n",
      "Epoch 74/100\n",
      "132/132 [==============================] - ETA: 0s - loss: 0.6932 - accuracy: 0.4882\n",
      "Epoch 74: val_loss did not improve from 0.69300\n",
      "132/132 [==============================] - 108s 821ms/step - loss: 0.6932 - accuracy: 0.4882 - val_loss: 0.6931 - val_accuracy: 0.5000\n",
      "Epoch 75/100\n",
      "132/132 [==============================] - ETA: 0s - loss: 0.6933 - accuracy: 0.5004\n",
      "Epoch 75: val_loss did not improve from 0.69300\n",
      "132/132 [==============================] - 107s 808ms/step - loss: 0.6933 - accuracy: 0.5004 - val_loss: 0.6931 - val_accuracy: 0.5000\n",
      "Epoch 76/100\n",
      "132/132 [==============================] - ETA: 0s - loss: 0.6932 - accuracy: 0.4829\n",
      "Epoch 76: val_loss did not improve from 0.69300\n",
      "132/132 [==============================] - 101s 765ms/step - loss: 0.6932 - accuracy: 0.4829 - val_loss: 0.6931 - val_accuracy: 0.5000\n",
      "Epoch 77/100\n",
      "132/132 [==============================] - ETA: 0s - loss: 0.6932 - accuracy: 0.4791\n",
      "Epoch 77: val_loss did not improve from 0.69300\n",
      "132/132 [==============================] - 98s 742ms/step - loss: 0.6932 - accuracy: 0.4791 - val_loss: 0.6931 - val_accuracy: 0.5000\n",
      "Epoch 78/100\n",
      "132/132 [==============================] - ETA: 0s - loss: 0.6932 - accuracy: 0.4989\n",
      "Epoch 78: val_loss did not improve from 0.69300\n",
      "132/132 [==============================] - 95s 722ms/step - loss: 0.6932 - accuracy: 0.4989 - val_loss: 0.6931 - val_accuracy: 0.5000\n",
      "Epoch 79/100\n",
      "132/132 [==============================] - ETA: 0s - loss: 0.6932 - accuracy: 0.5004\n",
      "Epoch 79: val_loss did not improve from 0.69300\n",
      "132/132 [==============================] - 93s 706ms/step - loss: 0.6932 - accuracy: 0.5004 - val_loss: 0.6931 - val_accuracy: 0.5000\n",
      "Epoch 80/100\n",
      "132/132 [==============================] - ETA: 0s - loss: 0.6932 - accuracy: 0.4837\n",
      "Epoch 80: val_loss did not improve from 0.69300\n",
      "132/132 [==============================] - 95s 718ms/step - loss: 0.6932 - accuracy: 0.4837 - val_loss: 0.6931 - val_accuracy: 0.5000\n",
      "Epoch 81/100\n",
      "132/132 [==============================] - ETA: 0s - loss: 0.6933 - accuracy: 0.4958\n",
      "Epoch 81: val_loss did not improve from 0.69300\n",
      "132/132 [==============================] - 102s 771ms/step - loss: 0.6933 - accuracy: 0.4958 - val_loss: 0.6932 - val_accuracy: 0.5000\n",
      "Epoch 82/100\n",
      "132/132 [==============================] - ETA: 0s - loss: 0.6933 - accuracy: 0.4844\n",
      "Epoch 82: val_loss did not improve from 0.69300\n",
      "132/132 [==============================] - 108s 815ms/step - loss: 0.6933 - accuracy: 0.4844 - val_loss: 0.6931 - val_accuracy: 0.5000\n",
      "Epoch 83/100\n",
      "132/132 [==============================] - ETA: 0s - loss: 0.6932 - accuracy: 0.4821\n",
      "Epoch 83: val_loss did not improve from 0.69300\n",
      "132/132 [==============================] - 107s 807ms/step - loss: 0.6932 - accuracy: 0.4821 - val_loss: 0.6931 - val_accuracy: 0.5000\n",
      "Epoch 84/100\n",
      "132/132 [==============================] - ETA: 0s - loss: 0.6932 - accuracy: 0.4624\n",
      "Epoch 84: val_loss did not improve from 0.69300\n",
      "132/132 [==============================] - 104s 789ms/step - loss: 0.6932 - accuracy: 0.4624 - val_loss: 0.6931 - val_accuracy: 0.5000\n",
      "Epoch 85/100\n",
      "132/132 [==============================] - ETA: 0s - loss: 0.6932 - accuracy: 0.4859\n",
      "Epoch 85: val_loss did not improve from 0.69300\n",
      "132/132 [==============================] - 105s 792ms/step - loss: 0.6932 - accuracy: 0.4859 - val_loss: 0.6931 - val_accuracy: 0.5000\n",
      "Epoch 86/100\n",
      "132/132 [==============================] - ETA: 0s - loss: 0.6932 - accuracy: 0.4593\n",
      "Epoch 86: val_loss did not improve from 0.69300\n",
      "132/132 [==============================] - 99s 746ms/step - loss: 0.6932 - accuracy: 0.4593 - val_loss: 0.6931 - val_accuracy: 0.5000\n",
      "Epoch 87/100\n",
      "132/132 [==============================] - ETA: 0s - loss: 0.6932 - accuracy: 0.4890\n",
      "Epoch 87: val_loss did not improve from 0.69300\n",
      "132/132 [==============================] - 92s 696ms/step - loss: 0.6932 - accuracy: 0.4890 - val_loss: 0.6931 - val_accuracy: 0.5000\n",
      "Epoch 88/100\n",
      "132/132 [==============================] - ETA: 0s - loss: 0.6932 - accuracy: 0.4821\n",
      "Epoch 88: val_loss did not improve from 0.69300\n",
      "132/132 [==============================] - 90s 680ms/step - loss: 0.6932 - accuracy: 0.4821 - val_loss: 0.6931 - val_accuracy: 0.5000\n",
      "Epoch 89/100\n",
      "132/132 [==============================] - ETA: 0s - loss: 0.6932 - accuracy: 0.4867\n",
      "Epoch 89: val_loss did not improve from 0.69300\n",
      "132/132 [==============================] - 104s 785ms/step - loss: 0.6932 - accuracy: 0.4867 - val_loss: 0.6931 - val_accuracy: 0.5000\n",
      "Epoch 90/100\n",
      "132/132 [==============================] - ETA: 0s - loss: 0.6932 - accuracy: 0.4905\n",
      "Epoch 90: val_loss did not improve from 0.69300\n",
      "132/132 [==============================] - 104s 784ms/step - loss: 0.6932 - accuracy: 0.4905 - val_loss: 0.6931 - val_accuracy: 0.5000\n",
      "Epoch 91/100\n",
      "132/132 [==============================] - ETA: 0s - loss: 0.6932 - accuracy: 0.4760\n",
      "Epoch 91: val_loss did not improve from 0.69300\n",
      "132/132 [==============================] - 107s 813ms/step - loss: 0.6932 - accuracy: 0.4760 - val_loss: 0.6931 - val_accuracy: 0.5000\n",
      "Epoch 92/100\n",
      "132/132 [==============================] - ETA: 0s - loss: 0.6932 - accuracy: 0.4875\n",
      "Epoch 92: val_loss did not improve from 0.69300\n",
      "132/132 [==============================] - 105s 795ms/step - loss: 0.6932 - accuracy: 0.4875 - val_loss: 0.6931 - val_accuracy: 0.5000\n",
      "Epoch 93/100\n"
     ]
    },
    {
     "name": "stdout",
     "output_type": "stream",
     "text": [
      "132/132 [==============================] - ETA: 0s - loss: 0.6932 - accuracy: 0.4958\n",
      "Epoch 93: val_loss did not improve from 0.69300\n",
      "132/132 [==============================] - 104s 789ms/step - loss: 0.6932 - accuracy: 0.4958 - val_loss: 0.6931 - val_accuracy: 0.5000\n",
      "Epoch 94/100\n",
      "132/132 [==============================] - ETA: 0s - loss: 0.6932 - accuracy: 0.4920\n",
      "Epoch 94: val_loss did not improve from 0.69300\n",
      "132/132 [==============================] - 115s 868ms/step - loss: 0.6932 - accuracy: 0.4920 - val_loss: 0.6931 - val_accuracy: 0.5000\n",
      "Epoch 95/100\n",
      "132/132 [==============================] - ETA: 0s - loss: 0.6932 - accuracy: 0.5004\n",
      "Epoch 95: val_loss did not improve from 0.69300\n",
      "132/132 [==============================] - 121s 913ms/step - loss: 0.6932 - accuracy: 0.5004 - val_loss: 0.6931 - val_accuracy: 0.5000\n",
      "Epoch 96/100\n",
      "132/132 [==============================] - ETA: 0s - loss: 0.6932 - accuracy: 0.4768\n",
      "Epoch 96: val_loss did not improve from 0.69300\n",
      "132/132 [==============================] - 120s 907ms/step - loss: 0.6932 - accuracy: 0.4768 - val_loss: 0.6931 - val_accuracy: 0.5000\n",
      "Epoch 97/100\n",
      "132/132 [==============================] - ETA: 0s - loss: 0.6932 - accuracy: 0.4852\n",
      "Epoch 97: val_loss did not improve from 0.69300\n",
      "132/132 [==============================] - 119s 902ms/step - loss: 0.6932 - accuracy: 0.4852 - val_loss: 0.6931 - val_accuracy: 0.5000\n",
      "Epoch 98/100\n",
      "132/132 [==============================] - ETA: 0s - loss: 0.6933 - accuracy: 0.4973\n",
      "Epoch 98: val_loss did not improve from 0.69300\n",
      "132/132 [==============================] - 116s 873ms/step - loss: 0.6933 - accuracy: 0.4973 - val_loss: 0.6932 - val_accuracy: 0.5000\n",
      "Epoch 99/100\n",
      "132/132 [==============================] - ETA: 0s - loss: 0.6933 - accuracy: 0.4852\n",
      "Epoch 99: val_loss did not improve from 0.69300\n",
      "132/132 [==============================] - 106s 800ms/step - loss: 0.6933 - accuracy: 0.4852 - val_loss: 0.6932 - val_accuracy: 0.5000\n",
      "Epoch 100/100\n",
      "132/132 [==============================] - ETA: 0s - loss: 0.6932 - accuracy: 0.5004\n",
      "Epoch 100: val_loss did not improve from 0.69300\n",
      "132/132 [==============================] - 105s 796ms/step - loss: 0.6932 - accuracy: 0.5004 - val_loss: 0.6931 - val_accuracy: 0.5000\n"
     ]
    }
   ],
   "source": [
    "history=model.fit(training_set,epochs=100,validation_data=testing_set,callbacks=[checkpoint])"
   ]
  },
  {
   "cell_type": "code",
   "execution_count": 8,
   "id": "44fd1e71",
   "metadata": {},
   "outputs": [
    {
     "data": {
      "image/png": "[encoded data removed]",
      "text/plain": [
       "<Figure size 640x480 with 1 Axes>"
      ]
     },
     "metadata": {},
     "output_type": "display_data"
    }
   ],
   "source": [
    "plt.plot(history.history['loss'],'red',label='Training loss')\n",
    "plt.plot(history.history['val_loss'],label='Validation loss')\n",
    "plt.title('Training and Validation Loss')\n",
    "plt.xlabel('Epochs')\n",
    "plt.ylabel('Loss')\n",
    "plt.legend()\n",
    "plt.show()"
   ]
  },
  {
   "cell_type": "code",
   "execution_count": 9,
   "id": "93dadcb4",
   "metadata": {},
   "outputs": [
    {
     "data": {
      "image/png": "[encoded data removed]",
      "text/plain": [
       "<Figure size 640x480 with 1 Axes>"
      ]
     },
     "metadata": {},
     "output_type": "display_data"
    }
   ],
   "source": [
    "plt.plot(history.history['accuracy'],'red',label='Training accuracy')\n",
    "plt.plot(history.history['val_accuracy'],label='Validation accuracy')\n",
    "plt.title('Training and Validation Accuracy')\n",
    "plt.xlabel('Epochs')\n",
    "plt.ylabel('Accuracy')\n",
    "plt.legend()\n",
    "plt.show()"
   ]
  }
 ],
 "metadata": {
  "kernelspec": {
   "display_name": "Python 3 (ipykernel)",
   "language": "python",
   "name": "python3"
  },
  "language_info": {
   "codemirror_mode": {
    "name": "ipython",
    "version": 3
   },
   "file_extension": ".py",
   "mimetype": "text/x-python",
   "name": "python",
   "nbconvert_exporter": "python",
   "pygments_lexer": "ipython3",
   "version": "3.10.9"
  }
 },
 "nbformat": 4,
 "nbformat_minor": 5
}
