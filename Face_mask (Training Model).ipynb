{
 "cells": [
  {
   "cell_type": "code",
   "execution_count": 9,
   "id": "b952cf17",
   "metadata": {},
   "outputs": [],
   "source": [
    "import pandas as pd\n",
    "import numpy as np\n",
    "import matplotlib.pyplot as plt\n",
    "from keras.models import Sequential\n",
    "from keras.layers import Convolution2D\n",
    "from keras.layers import MaxPooling2D\n",
    "from keras.layers import Dense\n",
    "from keras.layers import Flatten\n",
    "from keras.callbacks import ModelCheckpoint\n",
    "from keras.models import load_model"
   ]
  },
  {
   "cell_type": "code",
   "execution_count": 10,
   "id": "cae99454",
   "metadata": {},
   "outputs": [],
   "source": [
    "model=Sequential()"
   ]
  },
  {
   "cell_type": "code",
   "execution_count": 11,
   "id": "c089de6c",
   "metadata": {},
   "outputs": [],
   "source": [
    "from keras.preprocessing.image import ImageDataGenerator\n",
    "train_data=ImageDataGenerator(rescale=1.0/255,rotation_range=40,width_shift_range=0.2,height_shift_range=0.2,shear_range=0.2,\n",
    "                                 zoom_range=0.2,horizontal_flip=True,fill_mode='nearest')\n",
    "test_data=ImageDataGenerator(rescale=1.0/255)"
   ]
  },
  {
   "cell_type": "code",
   "execution_count": 12,
   "id": "d92db965",
   "metadata": {},
   "outputs": [
    {
     "name": "stdout",
     "output_type": "stream",
     "text": [
      "Found 1315 images belonging to 2 classes.\n",
      "Found 194 images belonging to 2 classes.\n"
     ]
    }
   ],
   "source": [
    "training_set=train_data.flow_from_directory('C:/Users/Deepanshu/Downloads/Live Face Mask Detection project/face-mask-dataset/Dataset/train',\n",
    "                                               target_size=(150,150),batch_size=10)\n",
    "testing_set=test_data.flow_from_directory('C:/Users/Deepanshu/Downloads/Live Face Mask Detection project/face-mask-dataset/Dataset/test',\n",
    "                                             target_size=(150,150),batch_size=10)"
   ]
  },
  {
   "cell_type": "code",
   "execution_count": 13,
   "id": "ff61db0e",
   "metadata": {},
   "outputs": [],
   "source": [
    "# LAYER 1\n",
    "model.add(Convolution2D(filters=200, kernel_size=3, activation='relu', input_shape=[150,150,3]))\n",
    "model.add(MaxPooling2D(pool_size=2, strides=2))\n",
    "\n",
    "\n",
    "# LAYER 2\n",
    "model.add(Convolution2D(filters=100, kernel_size=3, activation='relu'))\n",
    "model.add(MaxPooling2D(pool_size=2, strides=2))\n",
    "\n",
    "\n",
    "# FLATTEN\n",
    "model.add(Flatten())\n",
    "\n",
    "\n",
    "# DENSE LAYER\n",
    "model.add(Dense(units=50,activation='relu'))\n",
    "model.add(Dense(units=2,activation='softmax'))"
   ]
  },
  {
   "cell_type": "code",
   "execution_count": 14,
   "id": "af477657",
   "metadata": {},
   "outputs": [],
   "source": [
    "model.compile(optimizer='adam',loss='binary_crossentropy',metrics=['accuracy'])\n",
    "checkpoint = ModelCheckpoint('model-{epoch:03d}.model',monitor='val_loss',verbose=1,save_best_only=True,mode='auto')"
   ]
  },
  {
   "cell_type": "code",
   "execution_count": 15,
   "id": "0490aeb5",
   "metadata": {
    "scrolled": false
   },
   "outputs": [
    {
     "name": "stdout",
     "output_type": "stream",
     "text": [
      "Epoch 1/100\n",
      "132/132 [==============================] - ETA: 0s - loss: 0.6257 - accuracy: 0.6456\n",
      "Epoch 1: val_loss improved from inf to 0.46294, saving model to model-001.model\n"
     ]
    },
    {
     "name": "stderr",
     "output_type": "stream",
     "text": [
      "WARNING:absl:Found untraced functions such as _jit_compiled_convolution_op, _jit_compiled_convolution_op, _update_step_xla while saving (showing 3 of 3). These functions will not be directly callable after loading.\n"
     ]
    },
    {
     "name": "stdout",
     "output_type": "stream",
     "text": [
      "INFO:tensorflow:Assets written to: model-001.model\\assets\n"
     ]
    },
    {
     "name": "stderr",
     "output_type": "stream",
     "text": [
      "INFO:tensorflow:Assets written to: model-001.model\\assets\n"
     ]
    },
    {
     "name": "stdout",
     "output_type": "stream",
     "text": [
      "132/132 [==============================] - 79s 593ms/step - loss: 0.6257 - accuracy: 0.6456 - val_loss: 0.4629 - val_accuracy: 0.8041\n",
      "Epoch 2/100\n",
      "132/132 [==============================] - ETA: 0s - loss: 0.5478 - accuracy: 0.7346\n",
      "Epoch 2: val_loss improved from 0.46294 to 0.30566, saving model to model-002.model\n"
     ]
    },
    {
     "name": "stderr",
     "output_type": "stream",
     "text": [
      "WARNING:absl:Found untraced functions such as _jit_compiled_convolution_op, _jit_compiled_convolution_op, _update_step_xla while saving (showing 3 of 3). These functions will not be directly callable after loading.\n"
     ]
    },
    {
     "name": "stdout",
     "output_type": "stream",
     "text": [
      "INFO:tensorflow:Assets written to: model-002.model\\assets\n"
     ]
    },
    {
     "name": "stderr",
     "output_type": "stream",
     "text": [
      "INFO:tensorflow:Assets written to: model-002.model\\assets\n"
     ]
    },
    {
     "name": "stdout",
     "output_type": "stream",
     "text": [
      "132/132 [==============================] - 80s 604ms/step - loss: 0.5478 - accuracy: 0.7346 - val_loss: 0.3057 - val_accuracy: 0.8918\n",
      "Epoch 3/100\n",
      "132/132 [==============================] - ETA: 0s - loss: 0.4449 - accuracy: 0.8084\n",
      "Epoch 3: val_loss improved from 0.30566 to 0.28431, saving model to model-003.model\n"
     ]
    },
    {
     "name": "stderr",
     "output_type": "stream",
     "text": [
      "WARNING:absl:Found untraced functions such as _jit_compiled_convolution_op, _jit_compiled_convolution_op, _update_step_xla while saving (showing 3 of 3). These functions will not be directly callable after loading.\n"
     ]
    },
    {
     "name": "stdout",
     "output_type": "stream",
     "text": [
      "INFO:tensorflow:Assets written to: model-003.model\\assets\n"
     ]
    },
    {
     "name": "stderr",
     "output_type": "stream",
     "text": [
      "INFO:tensorflow:Assets written to: model-003.model\\assets\n"
     ]
    },
    {
     "name": "stdout",
     "output_type": "stream",
     "text": [
      "132/132 [==============================] - 81s 611ms/step - loss: 0.4449 - accuracy: 0.8084 - val_loss: 0.2843 - val_accuracy: 0.9381\n",
      "Epoch 4/100\n",
      "132/132 [==============================] - ETA: 0s - loss: 0.3059 - accuracy: 0.8814\n",
      "Epoch 4: val_loss improved from 0.28431 to 0.09287, saving model to model-004.model\n"
     ]
    },
    {
     "name": "stderr",
     "output_type": "stream",
     "text": [
      "WARNING:absl:Found untraced functions such as _jit_compiled_convolution_op, _jit_compiled_convolution_op, _update_step_xla while saving (showing 3 of 3). These functions will not be directly callable after loading.\n"
     ]
    },
    {
     "name": "stdout",
     "output_type": "stream",
     "text": [
      "INFO:tensorflow:Assets written to: model-004.model\\assets\n"
     ]
    },
    {
     "name": "stderr",
     "output_type": "stream",
     "text": [
      "INFO:tensorflow:Assets written to: model-004.model\\assets\n"
     ]
    },
    {
     "name": "stdout",
     "output_type": "stream",
     "text": [
      "132/132 [==============================] - 82s 622ms/step - loss: 0.3059 - accuracy: 0.8814 - val_loss: 0.0929 - val_accuracy: 0.9742\n",
      "Epoch 5/100\n",
      "132/132 [==============================] - ETA: 0s - loss: 0.2840 - accuracy: 0.9034\n",
      "Epoch 5: val_loss improved from 0.09287 to 0.07628, saving model to model-005.model\n"
     ]
    },
    {
     "name": "stderr",
     "output_type": "stream",
     "text": [
      "WARNING:absl:Found untraced functions such as _jit_compiled_convolution_op, _jit_compiled_convolution_op, _update_step_xla while saving (showing 3 of 3). These functions will not be directly callable after loading.\n"
     ]
    },
    {
     "name": "stdout",
     "output_type": "stream",
     "text": [
      "INFO:tensorflow:Assets written to: model-005.model\\assets\n"
     ]
    },
    {
     "name": "stderr",
     "output_type": "stream",
     "text": [
      "INFO:tensorflow:Assets written to: model-005.model\\assets\n"
     ]
    },
    {
     "name": "stdout",
     "output_type": "stream",
     "text": [
      "132/132 [==============================] - 89s 672ms/step - loss: 0.2840 - accuracy: 0.9034 - val_loss: 0.0763 - val_accuracy: 0.9691\n",
      "Epoch 6/100\n",
      "132/132 [==============================] - ETA: 0s - loss: 0.2427 - accuracy: 0.9110\n",
      "Epoch 6: val_loss did not improve from 0.07628\n",
      "132/132 [==============================] - 90s 685ms/step - loss: 0.2427 - accuracy: 0.9110 - val_loss: 0.0840 - val_accuracy: 0.9639\n",
      "Epoch 7/100\n",
      "132/132 [==============================] - ETA: 0s - loss: 0.1960 - accuracy: 0.9224\n",
      "Epoch 7: val_loss did not improve from 0.07628\n",
      "132/132 [==============================] - 98s 739ms/step - loss: 0.1960 - accuracy: 0.9224 - val_loss: 0.0942 - val_accuracy: 0.9485\n",
      "Epoch 8/100\n",
      "132/132 [==============================] - ETA: 0s - loss: 0.2218 - accuracy: 0.9179\n",
      "Epoch 8: val_loss did not improve from 0.07628\n",
      "132/132 [==============================] - 85s 646ms/step - loss: 0.2218 - accuracy: 0.9179 - val_loss: 0.1994 - val_accuracy: 0.8918\n",
      "Epoch 9/100\n",
      "132/132 [==============================] - ETA: 0s - loss: 0.1987 - accuracy: 0.9232\n",
      "Epoch 9: val_loss improved from 0.07628 to 0.05333, saving model to model-009.model\n"
     ]
    },
    {
     "name": "stderr",
     "output_type": "stream",
     "text": [
      "WARNING:absl:Found untraced functions such as _jit_compiled_convolution_op, _jit_compiled_convolution_op, _update_step_xla while saving (showing 3 of 3). These functions will not be directly callable after loading.\n"
     ]
    },
    {
     "name": "stdout",
     "output_type": "stream",
     "text": [
      "INFO:tensorflow:Assets written to: model-009.model\\assets\n"
     ]
    },
    {
     "name": "stderr",
     "output_type": "stream",
     "text": [
      "INFO:tensorflow:Assets written to: model-009.model\\assets\n"
     ]
    },
    {
     "name": "stdout",
     "output_type": "stream",
     "text": [
      "132/132 [==============================] - 92s 693ms/step - loss: 0.1987 - accuracy: 0.9232 - val_loss: 0.0533 - val_accuracy: 0.9742\n",
      "Epoch 10/100\n",
      "132/132 [==============================] - ETA: 0s - loss: 0.2333 - accuracy: 0.9171\n",
      "Epoch 10: val_loss did not improve from 0.05333\n",
      "132/132 [==============================] - 87s 662ms/step - loss: 0.2333 - accuracy: 0.9171 - val_loss: 0.0908 - val_accuracy: 0.9485\n",
      "Epoch 11/100\n",
      "132/132 [==============================] - ETA: 0s - loss: 0.1995 - accuracy: 0.9323\n",
      "Epoch 11: val_loss improved from 0.05333 to 0.04198, saving model to model-011.model\n"
     ]
    },
    {
     "name": "stderr",
     "output_type": "stream",
     "text": [
      "WARNING:absl:Found untraced functions such as _jit_compiled_convolution_op, _jit_compiled_convolution_op, _update_step_xla while saving (showing 3 of 3). These functions will not be directly callable after loading.\n"
     ]
    },
    {
     "name": "stdout",
     "output_type": "stream",
     "text": [
      "INFO:tensorflow:Assets written to: model-011.model\\assets\n"
     ]
    },
    {
     "name": "stderr",
     "output_type": "stream",
     "text": [
      "INFO:tensorflow:Assets written to: model-011.model\\assets\n"
     ]
    },
    {
     "name": "stdout",
     "output_type": "stream",
     "text": [
      "132/132 [==============================] - 91s 687ms/step - loss: 0.1995 - accuracy: 0.9323 - val_loss: 0.0420 - val_accuracy: 0.9897\n",
      "Epoch 12/100\n",
      "132/132 [==============================] - ETA: 0s - loss: 0.2299 - accuracy: 0.9110\n",
      "Epoch 12: val_loss did not improve from 0.04198\n",
      "132/132 [==============================] - 91s 687ms/step - loss: 0.2299 - accuracy: 0.9110 - val_loss: 0.0610 - val_accuracy: 0.9742\n",
      "Epoch 13/100\n",
      "132/132 [==============================] - ETA: 0s - loss: 0.1775 - accuracy: 0.9361\n",
      "Epoch 13: val_loss did not improve from 0.04198\n",
      "132/132 [==============================] - 98s 745ms/step - loss: 0.1775 - accuracy: 0.9361 - val_loss: 0.1009 - val_accuracy: 0.9794\n",
      "Epoch 14/100\n",
      "132/132 [==============================] - ETA: 0s - loss: 0.2143 - accuracy: 0.9194\n",
      "Epoch 14: val_loss did not improve from 0.04198\n",
      "132/132 [==============================] - 100s 758ms/step - loss: 0.2143 - accuracy: 0.9194 - val_loss: 0.1075 - val_accuracy: 0.9588\n",
      "Epoch 15/100\n",
      "132/132 [==============================] - ETA: 0s - loss: 0.1757 - accuracy: 0.9407\n",
      "Epoch 15: val_loss improved from 0.04198 to 0.03105, saving model to model-015.model\n"
     ]
    },
    {
     "name": "stderr",
     "output_type": "stream",
     "text": [
      "WARNING:absl:Found untraced functions such as _jit_compiled_convolution_op, _jit_compiled_convolution_op, _update_step_xla while saving (showing 3 of 3). These functions will not be directly callable after loading.\n"
     ]
    },
    {
     "name": "stdout",
     "output_type": "stream",
     "text": [
      "INFO:tensorflow:Assets written to: model-015.model\\assets\n"
     ]
    },
    {
     "name": "stderr",
     "output_type": "stream",
     "text": [
      "INFO:tensorflow:Assets written to: model-015.model\\assets\n"
     ]
    },
    {
     "name": "stdout",
     "output_type": "stream",
     "text": [
      "132/132 [==============================] - 95s 719ms/step - loss: 0.1757 - accuracy: 0.9407 - val_loss: 0.0311 - val_accuracy: 0.9897\n",
      "Epoch 16/100\n",
      "132/132 [==============================] - ETA: 0s - loss: 0.1686 - accuracy: 0.9384\n",
      "Epoch 16: val_loss improved from 0.03105 to 0.02552, saving model to model-016.model\n"
     ]
    },
    {
     "name": "stderr",
     "output_type": "stream",
     "text": [
      "WARNING:absl:Found untraced functions such as _jit_compiled_convolution_op, _jit_compiled_convolution_op, _update_step_xla while saving (showing 3 of 3). These functions will not be directly callable after loading.\n"
     ]
    },
    {
     "name": "stdout",
     "output_type": "stream",
     "text": [
      "INFO:tensorflow:Assets written to: model-016.model\\assets\n"
     ]
    },
    {
     "name": "stderr",
     "output_type": "stream",
     "text": [
      "INFO:tensorflow:Assets written to: model-016.model\\assets\n"
     ]
    },
    {
     "name": "stdout",
     "output_type": "stream",
     "text": [
      "132/132 [==============================] - 88s 669ms/step - loss: 0.1686 - accuracy: 0.9384 - val_loss: 0.0255 - val_accuracy: 1.0000\n",
      "Epoch 17/100\n",
      "132/132 [==============================] - ETA: 0s - loss: 0.2184 - accuracy: 0.9103\n",
      "Epoch 17: val_loss did not improve from 0.02552\n",
      "132/132 [==============================] - 88s 665ms/step - loss: 0.2184 - accuracy: 0.9103 - val_loss: 0.1241 - val_accuracy: 0.9485\n",
      "Epoch 18/100\n",
      "132/132 [==============================] - ETA: 0s - loss: 0.1549 - accuracy: 0.9544\n",
      "Epoch 18: val_loss did not improve from 0.02552\n",
      "132/132 [==============================] - 93s 707ms/step - loss: 0.1549 - accuracy: 0.9544 - val_loss: 0.0941 - val_accuracy: 0.9536\n",
      "Epoch 19/100\n",
      "132/132 [==============================] - ETA: 0s - loss: 0.1511 - accuracy: 0.9437\n",
      "Epoch 19: val_loss did not improve from 0.02552\n",
      "132/132 [==============================] - 89s 677ms/step - loss: 0.1511 - accuracy: 0.9437 - val_loss: 0.0397 - val_accuracy: 0.9845\n",
      "Epoch 20/100\n",
      "132/132 [==============================] - ETA: 0s - loss: 0.1663 - accuracy: 0.9399\n",
      "Epoch 20: val_loss did not improve from 0.02552\n",
      "132/132 [==============================] - 90s 679ms/step - loss: 0.1663 - accuracy: 0.9399 - val_loss: 0.0310 - val_accuracy: 0.9897\n",
      "Epoch 21/100\n",
      "132/132 [==============================] - ETA: 0s - loss: 0.1544 - accuracy: 0.9498\n",
      "Epoch 21: val_loss did not improve from 0.02552\n",
      "132/132 [==============================] - 94s 712ms/step - loss: 0.1544 - accuracy: 0.9498 - val_loss: 0.0312 - val_accuracy: 0.9948\n",
      "Epoch 22/100\n",
      "132/132 [==============================] - ETA: 0s - loss: 0.1418 - accuracy: 0.9452\n",
      "Epoch 22: val_loss did not improve from 0.02552\n",
      "132/132 [==============================] - 86s 654ms/step - loss: 0.1418 - accuracy: 0.9452 - val_loss: 0.0818 - val_accuracy: 0.9588\n",
      "Epoch 23/100\n",
      "132/132 [==============================] - ETA: 0s - loss: 0.1337 - accuracy: 0.9551\n",
      "Epoch 23: val_loss improved from 0.02552 to 0.01770, saving model to model-023.model\n"
     ]
    },
    {
     "name": "stderr",
     "output_type": "stream",
     "text": [
      "WARNING:absl:Found untraced functions such as _jit_compiled_convolution_op, _jit_compiled_convolution_op, _update_step_xla while saving (showing 3 of 3). These functions will not be directly callable after loading.\n"
     ]
    },
    {
     "name": "stdout",
     "output_type": "stream",
     "text": [
      "INFO:tensorflow:Assets written to: model-023.model\\assets\n"
     ]
    },
    {
     "name": "stderr",
     "output_type": "stream",
     "text": [
      "INFO:tensorflow:Assets written to: model-023.model\\assets\n"
     ]
    },
    {
     "name": "stdout",
     "output_type": "stream",
     "text": [
      "132/132 [==============================] - 86s 650ms/step - loss: 0.1337 - accuracy: 0.9551 - val_loss: 0.0177 - val_accuracy: 0.9948\n",
      "Epoch 24/100\n",
      "132/132 [==============================] - ETA: 0s - loss: 0.1301 - accuracy: 0.9544\n",
      "Epoch 24: val_loss did not improve from 0.01770\n",
      "132/132 [==============================] - 85s 647ms/step - loss: 0.1301 - accuracy: 0.9544 - val_loss: 0.0583 - val_accuracy: 0.9691\n",
      "Epoch 25/100\n",
      "132/132 [==============================] - ETA: 0s - loss: 0.1310 - accuracy: 0.9513\n",
      "Epoch 25: val_loss did not improve from 0.01770\n",
      "132/132 [==============================] - 97s 732ms/step - loss: 0.1310 - accuracy: 0.9513 - val_loss: 0.0840 - val_accuracy: 0.9536\n",
      "Epoch 26/100\n",
      "132/132 [==============================] - ETA: 0s - loss: 0.1787 - accuracy: 0.9376\n",
      "Epoch 26: val_loss did not improve from 0.01770\n",
      "132/132 [==============================] - 134s 1s/step - loss: 0.1787 - accuracy: 0.9376 - val_loss: 0.1712 - val_accuracy: 0.9433\n",
      "Epoch 27/100\n",
      "132/132 [==============================] - ETA: 0s - loss: 0.2129 - accuracy: 0.9179\n",
      "Epoch 27: val_loss did not improve from 0.01770\n",
      "132/132 [==============================] - 85s 643ms/step - loss: 0.2129 - accuracy: 0.9179 - val_loss: 0.1315 - val_accuracy: 0.9227\n",
      "Epoch 28/100\n",
      "132/132 [==============================] - ETA: 0s - loss: 0.1346 - accuracy: 0.9498\n",
      "Epoch 28: val_loss did not improve from 0.01770\n",
      "132/132 [==============================] - 85s 645ms/step - loss: 0.1346 - accuracy: 0.9498 - val_loss: 0.0265 - val_accuracy: 0.9897\n",
      "Epoch 29/100\n",
      "132/132 [==============================] - ETA: 0s - loss: 0.1725 - accuracy: 0.9392\n",
      "Epoch 29: val_loss did not improve from 0.01770\n",
      "132/132 [==============================] - 85s 647ms/step - loss: 0.1725 - accuracy: 0.9392 - val_loss: 0.1396 - val_accuracy: 0.9124\n",
      "Epoch 30/100\n",
      "132/132 [==============================] - ETA: 0s - loss: 0.1431 - accuracy: 0.9490\n",
      "Epoch 30: val_loss did not improve from 0.01770\n",
      "132/132 [==============================] - 579s 4s/step - loss: 0.1431 - accuracy: 0.9490 - val_loss: 0.1099 - val_accuracy: 0.9433\n",
      "Epoch 31/100\n",
      "132/132 [==============================] - ETA: 0s - loss: 0.1131 - accuracy: 0.9597\n",
      "Epoch 31: val_loss did not improve from 0.01770\n",
      "132/132 [==============================] - 83s 631ms/step - loss: 0.1131 - accuracy: 0.9597 - val_loss: 0.0258 - val_accuracy: 0.9948\n",
      "Epoch 32/100\n",
      "132/132 [==============================] - ETA: 0s - loss: 0.1116 - accuracy: 0.9574\n",
      "Epoch 32: val_loss did not improve from 0.01770\n",
      "132/132 [==============================] - 84s 634ms/step - loss: 0.1116 - accuracy: 0.9574 - val_loss: 0.0209 - val_accuracy: 1.0000\n",
      "Epoch 33/100\n",
      "132/132 [==============================] - ETA: 0s - loss: 0.1443 - accuracy: 0.9483\n",
      "Epoch 33: val_loss did not improve from 0.01770\n",
      "132/132 [==============================] - 85s 642ms/step - loss: 0.1443 - accuracy: 0.9483 - val_loss: 0.0689 - val_accuracy: 0.9536\n",
      "Epoch 34/100\n",
      "132/132 [==============================] - ETA: 0s - loss: 0.1268 - accuracy: 0.9567\n",
      "Epoch 34: val_loss did not improve from 0.01770\n",
      "132/132 [==============================] - 85s 641ms/step - loss: 0.1268 - accuracy: 0.9567 - val_loss: 0.0536 - val_accuracy: 0.9742\n",
      "Epoch 35/100\n",
      "132/132 [==============================] - ETA: 0s - loss: 0.1165 - accuracy: 0.9521\n",
      "Epoch 35: val_loss did not improve from 0.01770\n",
      "132/132 [==============================] - 85s 642ms/step - loss: 0.1165 - accuracy: 0.9521 - val_loss: 0.1106 - val_accuracy: 0.9588\n",
      "Epoch 36/100\n",
      "132/132 [==============================] - ETA: 0s - loss: 0.1161 - accuracy: 0.9627\n",
      "Epoch 36: val_loss did not improve from 0.01770\n",
      "132/132 [==============================] - 85s 641ms/step - loss: 0.1161 - accuracy: 0.9627 - val_loss: 0.0279 - val_accuracy: 0.9948\n",
      "Epoch 37/100\n",
      "132/132 [==============================] - ETA: 0s - loss: 0.1123 - accuracy: 0.9635\n",
      "Epoch 37: val_loss did not improve from 0.01770\n",
      "132/132 [==============================] - 87s 661ms/step - loss: 0.1123 - accuracy: 0.9635 - val_loss: 0.0508 - val_accuracy: 0.9845\n",
      "Epoch 38/100\n",
      "132/132 [==============================] - ETA: 0s - loss: 0.1100 - accuracy: 0.9582\n",
      "Epoch 38: val_loss did not improve from 0.01770\n",
      "132/132 [==============================] - 89s 671ms/step - loss: 0.1100 - accuracy: 0.9582 - val_loss: 0.0407 - val_accuracy: 0.9897\n",
      "Epoch 39/100\n",
      "132/132 [==============================] - ETA: 0s - loss: 0.1305 - accuracy: 0.9498\n",
      "Epoch 39: val_loss improved from 0.01770 to 0.01166, saving model to model-039.model\n"
     ]
    },
    {
     "name": "stderr",
     "output_type": "stream",
     "text": [
      "WARNING:absl:Found untraced functions such as _jit_compiled_convolution_op, _jit_compiled_convolution_op, _update_step_xla while saving (showing 3 of 3). These functions will not be directly callable after loading.\n"
     ]
    },
    {
     "name": "stdout",
     "output_type": "stream",
     "text": [
      "INFO:tensorflow:Assets written to: model-039.model\\assets\n"
     ]
    },
    {
     "name": "stderr",
     "output_type": "stream",
     "text": [
      "INFO:tensorflow:Assets written to: model-039.model\\assets\n"
     ]
    },
    {
     "name": "stdout",
     "output_type": "stream",
     "text": [
      "132/132 [==============================] - 86s 654ms/step - loss: 0.1305 - accuracy: 0.9498 - val_loss: 0.0117 - val_accuracy: 1.0000\n",
      "Epoch 40/100\n",
      "132/132 [==============================] - ETA: 0s - loss: 0.1212 - accuracy: 0.9567\n",
      "Epoch 40: val_loss did not improve from 0.01166\n",
      "132/132 [==============================] - 85s 647ms/step - loss: 0.1212 - accuracy: 0.9567 - val_loss: 0.0502 - val_accuracy: 0.9845\n",
      "Epoch 41/100\n",
      "132/132 [==============================] - ETA: 0s - loss: 0.0905 - accuracy: 0.9703\n",
      "Epoch 41: val_loss did not improve from 0.01166\n",
      "132/132 [==============================] - 85s 648ms/step - loss: 0.0905 - accuracy: 0.9703 - val_loss: 0.0166 - val_accuracy: 0.9948\n",
      "Epoch 42/100\n",
      "132/132 [==============================] - ETA: 0s - loss: 0.1427 - accuracy: 0.9582\n",
      "Epoch 42: val_loss did not improve from 0.01166\n",
      "132/132 [==============================] - 87s 658ms/step - loss: 0.1427 - accuracy: 0.9582 - val_loss: 0.0728 - val_accuracy: 0.9485\n",
      "Epoch 43/100\n",
      "132/132 [==============================] - ETA: 0s - loss: 0.1015 - accuracy: 0.9658\n",
      "Epoch 43: val_loss did not improve from 0.01166\n",
      "132/132 [==============================] - 92s 694ms/step - loss: 0.1015 - accuracy: 0.9658 - val_loss: 0.0430 - val_accuracy: 0.9845\n",
      "Epoch 44/100\n",
      "132/132 [==============================] - ETA: 0s - loss: 0.0990 - accuracy: 0.9650\n",
      "Epoch 44: val_loss did not improve from 0.01166\n",
      "132/132 [==============================] - 94s 716ms/step - loss: 0.0990 - accuracy: 0.9650 - val_loss: 0.1082 - val_accuracy: 0.9485\n",
      "Epoch 45/100\n",
      "132/132 [==============================] - ETA: 0s - loss: 0.0941 - accuracy: 0.9688\n",
      "Epoch 45: val_loss improved from 0.01166 to 0.01086, saving model to model-045.model\n"
     ]
    },
    {
     "name": "stderr",
     "output_type": "stream",
     "text": [
      "WARNING:absl:Found untraced functions such as _jit_compiled_convolution_op, _jit_compiled_convolution_op, _update_step_xla while saving (showing 3 of 3). These functions will not be directly callable after loading.\n"
     ]
    },
    {
     "name": "stdout",
     "output_type": "stream",
     "text": [
      "INFO:tensorflow:Assets written to: model-045.model\\assets\n"
     ]
    },
    {
     "name": "stderr",
     "output_type": "stream",
     "text": [
      "INFO:tensorflow:Assets written to: model-045.model\\assets\n"
     ]
    },
    {
     "name": "stdout",
     "output_type": "stream",
     "text": [
      "132/132 [==============================] - 102s 770ms/step - loss: 0.0941 - accuracy: 0.9688 - val_loss: 0.0109 - val_accuracy: 1.0000\n",
      "Epoch 46/100\n",
      "132/132 [==============================] - ETA: 0s - loss: 0.0955 - accuracy: 0.9643\n",
      "Epoch 46: val_loss did not improve from 0.01086\n",
      "132/132 [==============================] - 99s 745ms/step - loss: 0.0955 - accuracy: 0.9643 - val_loss: 0.0361 - val_accuracy: 0.9845\n",
      "Epoch 47/100\n",
      "132/132 [==============================] - ETA: 0s - loss: 0.0947 - accuracy: 0.9650\n",
      "Epoch 47: val_loss did not improve from 0.01086\n",
      "132/132 [==============================] - 85s 640ms/step - loss: 0.0947 - accuracy: 0.9650 - val_loss: 0.0178 - val_accuracy: 0.9948\n",
      "Epoch 48/100\n",
      "132/132 [==============================] - ETA: 0s - loss: 0.0982 - accuracy: 0.9620\n",
      "Epoch 48: val_loss did not improve from 0.01086\n",
      "132/132 [==============================] - 84s 637ms/step - loss: 0.0982 - accuracy: 0.9620 - val_loss: 0.0254 - val_accuracy: 0.9948\n",
      "Epoch 49/100\n",
      "132/132 [==============================] - ETA: 0s - loss: 0.1001 - accuracy: 0.9605\n",
      "Epoch 49: val_loss did not improve from 0.01086\n",
      "132/132 [==============================] - 85s 645ms/step - loss: 0.1001 - accuracy: 0.9605 - val_loss: 0.0568 - val_accuracy: 0.9794\n",
      "Epoch 50/100\n",
      "132/132 [==============================] - ETA: 0s - loss: 0.1054 - accuracy: 0.9627\n",
      "Epoch 50: val_loss did not improve from 0.01086\n",
      "132/132 [==============================] - 88s 662ms/step - loss: 0.1054 - accuracy: 0.9627 - val_loss: 0.0412 - val_accuracy: 0.9794\n",
      "Epoch 51/100\n",
      "132/132 [==============================] - ETA: 0s - loss: 0.0898 - accuracy: 0.9696\n",
      "Epoch 51: val_loss did not improve from 0.01086\n",
      "132/132 [==============================] - 85s 645ms/step - loss: 0.0898 - accuracy: 0.9696 - val_loss: 0.0328 - val_accuracy: 0.9948\n",
      "Epoch 52/100\n",
      "132/132 [==============================] - ETA: 0s - loss: 0.0918 - accuracy: 0.9711\n",
      "Epoch 52: val_loss did not improve from 0.01086\n",
      "132/132 [==============================] - 85s 642ms/step - loss: 0.0918 - accuracy: 0.9711 - val_loss: 0.0230 - val_accuracy: 0.9948\n",
      "Epoch 53/100\n",
      "132/132 [==============================] - ETA: 0s - loss: 0.0905 - accuracy: 0.9711\n",
      "Epoch 53: val_loss did not improve from 0.01086\n",
      "132/132 [==============================] - 89s 676ms/step - loss: 0.0905 - accuracy: 0.9711 - val_loss: 0.0219 - val_accuracy: 0.9948\n",
      "Epoch 54/100\n",
      "132/132 [==============================] - ETA: 0s - loss: 0.0865 - accuracy: 0.9726\n",
      "Epoch 54: val_loss did not improve from 0.01086\n",
      "132/132 [==============================] - 89s 676ms/step - loss: 0.0865 - accuracy: 0.9726 - val_loss: 0.0788 - val_accuracy: 0.9691\n",
      "Epoch 55/100\n",
      "132/132 [==============================] - ETA: 0s - loss: 0.0871 - accuracy: 0.9665\n",
      "Epoch 55: val_loss did not improve from 0.01086\n",
      "132/132 [==============================] - 89s 670ms/step - loss: 0.0871 - accuracy: 0.9665 - val_loss: 0.0144 - val_accuracy: 1.0000\n",
      "Epoch 56/100\n",
      "132/132 [==============================] - ETA: 0s - loss: 0.0881 - accuracy: 0.9658\n",
      "Epoch 56: val_loss did not improve from 0.01086\n",
      "132/132 [==============================] - 92s 695ms/step - loss: 0.0881 - accuracy: 0.9658 - val_loss: 0.0271 - val_accuracy: 0.9948\n",
      "Epoch 57/100\n",
      "132/132 [==============================] - ETA: 0s - loss: 0.0980 - accuracy: 0.9741\n",
      "Epoch 57: val_loss did not improve from 0.01086\n",
      "132/132 [==============================] - 90s 682ms/step - loss: 0.0980 - accuracy: 0.9741 - val_loss: 0.0147 - val_accuracy: 1.0000\n",
      "Epoch 58/100\n",
      "132/132 [==============================] - ETA: 0s - loss: 0.0983 - accuracy: 0.9650\n",
      "Epoch 58: val_loss did not improve from 0.01086\n",
      "132/132 [==============================] - 90s 678ms/step - loss: 0.0983 - accuracy: 0.9650 - val_loss: 0.0211 - val_accuracy: 1.0000\n",
      "Epoch 59/100\n",
      "132/132 [==============================] - ETA: 0s - loss: 0.1064 - accuracy: 0.9620\n",
      "Epoch 59: val_loss did not improve from 0.01086\n",
      "132/132 [==============================] - 86s 649ms/step - loss: 0.1064 - accuracy: 0.9620 - val_loss: 0.0135 - val_accuracy: 1.0000\n",
      "Epoch 60/100\n",
      "132/132 [==============================] - ETA: 0s - loss: 0.0941 - accuracy: 0.9703\n",
      "Epoch 60: val_loss did not improve from 0.01086\n",
      "132/132 [==============================] - 84s 638ms/step - loss: 0.0941 - accuracy: 0.9703 - val_loss: 0.0215 - val_accuracy: 0.9948\n",
      "Epoch 61/100\n",
      "132/132 [==============================] - ETA: 0s - loss: 0.0866 - accuracy: 0.9711\n",
      "Epoch 61: val_loss did not improve from 0.01086\n",
      "132/132 [==============================] - 86s 649ms/step - loss: 0.0866 - accuracy: 0.9711 - val_loss: 0.0297 - val_accuracy: 0.9845\n",
      "Epoch 62/100\n",
      "132/132 [==============================] - ETA: 0s - loss: 0.0961 - accuracy: 0.9643\n",
      "Epoch 62: val_loss did not improve from 0.01086\n",
      "132/132 [==============================] - 88s 668ms/step - loss: 0.0961 - accuracy: 0.9643 - val_loss: 0.0938 - val_accuracy: 0.9485\n",
      "Epoch 63/100\n",
      "132/132 [==============================] - ETA: 0s - loss: 0.0936 - accuracy: 0.9658\n",
      "Epoch 63: val_loss did not improve from 0.01086\n",
      "132/132 [==============================] - 84s 637ms/step - loss: 0.0936 - accuracy: 0.9658 - val_loss: 0.0241 - val_accuracy: 0.9948\n",
      "Epoch 64/100\n",
      "132/132 [==============================] - ETA: 0s - loss: 0.1018 - accuracy: 0.9658\n",
      "Epoch 64: val_loss did not improve from 0.01086\n",
      "132/132 [==============================] - 86s 647ms/step - loss: 0.1018 - accuracy: 0.9658 - val_loss: 0.0128 - val_accuracy: 1.0000\n",
      "Epoch 65/100\n",
      "132/132 [==============================] - ETA: 0s - loss: 0.0914 - accuracy: 0.9589\n",
      "Epoch 65: val_loss did not improve from 0.01086\n",
      "132/132 [==============================] - 87s 658ms/step - loss: 0.0914 - accuracy: 0.9589 - val_loss: 0.0591 - val_accuracy: 0.9742\n",
      "Epoch 66/100\n",
      "132/132 [==============================] - ETA: 0s - loss: 0.0841 - accuracy: 0.9643\n",
      "Epoch 66: val_loss did not improve from 0.01086\n",
      "132/132 [==============================] - 84s 637ms/step - loss: 0.0841 - accuracy: 0.9643 - val_loss: 0.0323 - val_accuracy: 0.9794\n",
      "Epoch 67/100\n",
      "132/132 [==============================] - ETA: 0s - loss: 0.1075 - accuracy: 0.9620\n",
      "Epoch 67: val_loss did not improve from 0.01086\n",
      "132/132 [==============================] - 84s 637ms/step - loss: 0.1075 - accuracy: 0.9620 - val_loss: 0.0197 - val_accuracy: 0.9948\n",
      "Epoch 68/100\n",
      "132/132 [==============================] - ETA: 0s - loss: 0.0833 - accuracy: 0.9719\n",
      "Epoch 68: val_loss improved from 0.01086 to 0.00773, saving model to model-068.model\n"
     ]
    },
    {
     "name": "stderr",
     "output_type": "stream",
     "text": [
      "WARNING:absl:Found untraced functions such as _jit_compiled_convolution_op, _jit_compiled_convolution_op, _update_step_xla while saving (showing 3 of 3). These functions will not be directly callable after loading.\n"
     ]
    },
    {
     "name": "stdout",
     "output_type": "stream",
     "text": [
      "INFO:tensorflow:Assets written to: model-068.model\\assets\n"
     ]
    },
    {
     "name": "stderr",
     "output_type": "stream",
     "text": [
      "INFO:tensorflow:Assets written to: model-068.model\\assets\n"
     ]
    },
    {
     "name": "stdout",
     "output_type": "stream",
     "text": [
      "132/132 [==============================] - 86s 652ms/step - loss: 0.0833 - accuracy: 0.9719 - val_loss: 0.0077 - val_accuracy: 1.0000\n",
      "Epoch 69/100\n",
      "132/132 [==============================] - ETA: 0s - loss: 0.0716 - accuracy: 0.9726\n",
      "Epoch 69: val_loss did not improve from 0.00773\n",
      "132/132 [==============================] - 85s 641ms/step - loss: 0.0716 - accuracy: 0.9726 - val_loss: 0.0320 - val_accuracy: 0.9948\n",
      "Epoch 70/100\n",
      "132/132 [==============================] - ETA: 0s - loss: 0.0931 - accuracy: 0.9673\n",
      "Epoch 70: val_loss did not improve from 0.00773\n",
      "132/132 [==============================] - 85s 641ms/step - loss: 0.0931 - accuracy: 0.9673 - val_loss: 0.0146 - val_accuracy: 0.9948\n",
      "Epoch 71/100\n",
      "132/132 [==============================] - ETA: 0s - loss: 0.1089 - accuracy: 0.9627\n",
      "Epoch 71: val_loss did not improve from 0.00773\n",
      "132/132 [==============================] - 84s 638ms/step - loss: 0.1089 - accuracy: 0.9627 - val_loss: 0.0389 - val_accuracy: 0.9794\n",
      "Epoch 72/100\n",
      "132/132 [==============================] - ETA: 0s - loss: 0.0850 - accuracy: 0.9650\n",
      "Epoch 72: val_loss did not improve from 0.00773\n",
      "132/132 [==============================] - 86s 654ms/step - loss: 0.0850 - accuracy: 0.9650 - val_loss: 0.0738 - val_accuracy: 0.9742\n",
      "Epoch 73/100\n",
      "132/132 [==============================] - ETA: 0s - loss: 0.1025 - accuracy: 0.9665\n",
      "Epoch 73: val_loss did not improve from 0.00773\n",
      "132/132 [==============================] - 86s 649ms/step - loss: 0.1025 - accuracy: 0.9665 - val_loss: 0.0258 - val_accuracy: 0.9897\n",
      "Epoch 74/100\n",
      "132/132 [==============================] - ETA: 0s - loss: 0.0838 - accuracy: 0.9673\n",
      "Epoch 74: val_loss did not improve from 0.00773\n",
      "132/132 [==============================] - 89s 673ms/step - loss: 0.0838 - accuracy: 0.9673 - val_loss: 0.0414 - val_accuracy: 0.9897\n",
      "Epoch 75/100\n",
      "132/132 [==============================] - ETA: 0s - loss: 0.0741 - accuracy: 0.9734\n",
      "Epoch 75: val_loss did not improve from 0.00773\n",
      "132/132 [==============================] - 87s 656ms/step - loss: 0.0741 - accuracy: 0.9734 - val_loss: 0.0372 - val_accuracy: 0.9794\n",
      "Epoch 76/100\n",
      "132/132 [==============================] - ETA: 0s - loss: 0.0865 - accuracy: 0.9719\n",
      "Epoch 76: val_loss did not improve from 0.00773\n",
      "132/132 [==============================] - 85s 645ms/step - loss: 0.0865 - accuracy: 0.9719 - val_loss: 0.0174 - val_accuracy: 1.0000\n",
      "Epoch 77/100\n",
      "132/132 [==============================] - ETA: 0s - loss: 0.0801 - accuracy: 0.9734\n",
      "Epoch 77: val_loss did not improve from 0.00773\n",
      "132/132 [==============================] - 87s 659ms/step - loss: 0.0801 - accuracy: 0.9734 - val_loss: 0.0384 - val_accuracy: 0.9794\n",
      "Epoch 78/100\n",
      "132/132 [==============================] - ETA: 0s - loss: 0.0994 - accuracy: 0.9605\n",
      "Epoch 78: val_loss did not improve from 0.00773\n",
      "132/132 [==============================] - 87s 659ms/step - loss: 0.0994 - accuracy: 0.9605 - val_loss: 0.0290 - val_accuracy: 0.9948\n",
      "Epoch 79/100\n",
      "132/132 [==============================] - ETA: 0s - loss: 0.0799 - accuracy: 0.9665\n",
      "Epoch 79: val_loss did not improve from 0.00773\n",
      "132/132 [==============================] - 84s 635ms/step - loss: 0.0799 - accuracy: 0.9665 - val_loss: 0.0152 - val_accuracy: 0.9948\n",
      "Epoch 80/100\n",
      "132/132 [==============================] - ETA: 0s - loss: 0.0874 - accuracy: 0.9726\n",
      "Epoch 80: val_loss did not improve from 0.00773\n",
      "132/132 [==============================] - 84s 639ms/step - loss: 0.0874 - accuracy: 0.9726 - val_loss: 0.0082 - val_accuracy: 1.0000\n",
      "Epoch 81/100\n",
      "132/132 [==============================] - ETA: 0s - loss: 0.0784 - accuracy: 0.9741\n",
      "Epoch 81: val_loss did not improve from 0.00773\n",
      "132/132 [==============================] - 86s 653ms/step - loss: 0.0784 - accuracy: 0.9741 - val_loss: 0.0367 - val_accuracy: 0.9897\n",
      "Epoch 82/100\n",
      "132/132 [==============================] - ETA: 0s - loss: 0.0786 - accuracy: 0.9749\n",
      "Epoch 82: val_loss did not improve from 0.00773\n",
      "132/132 [==============================] - 88s 669ms/step - loss: 0.0786 - accuracy: 0.9749 - val_loss: 0.0404 - val_accuracy: 0.9897\n",
      "Epoch 83/100\n",
      "132/132 [==============================] - ETA: 0s - loss: 0.0830 - accuracy: 0.9719\n",
      "Epoch 83: val_loss improved from 0.00773 to 0.00704, saving model to model-083.model\n"
     ]
    },
    {
     "name": "stderr",
     "output_type": "stream",
     "text": [
      "WARNING:absl:Found untraced functions such as _jit_compiled_convolution_op, _jit_compiled_convolution_op, _update_step_xla while saving (showing 3 of 3). These functions will not be directly callable after loading.\n"
     ]
    },
    {
     "name": "stdout",
     "output_type": "stream",
     "text": [
      "INFO:tensorflow:Assets written to: model-083.model\\assets\n"
     ]
    },
    {
     "name": "stderr",
     "output_type": "stream",
     "text": [
      "INFO:tensorflow:Assets written to: model-083.model\\assets\n"
     ]
    },
    {
     "name": "stdout",
     "output_type": "stream",
     "text": [
      "132/132 [==============================] - 87s 660ms/step - loss: 0.0830 - accuracy: 0.9719 - val_loss: 0.0070 - val_accuracy: 1.0000\n",
      "Epoch 84/100\n",
      "132/132 [==============================] - ETA: 0s - loss: 0.0755 - accuracy: 0.9681\n",
      "Epoch 84: val_loss did not improve from 0.00704\n",
      "132/132 [==============================] - 84s 638ms/step - loss: 0.0755 - accuracy: 0.9681 - val_loss: 0.0345 - val_accuracy: 0.9794\n",
      "Epoch 85/100\n",
      "132/132 [==============================] - ETA: 0s - loss: 0.0754 - accuracy: 0.9681\n",
      "Epoch 85: val_loss did not improve from 0.00704\n",
      "132/132 [==============================] - 84s 634ms/step - loss: 0.0754 - accuracy: 0.9681 - val_loss: 0.0551 - val_accuracy: 0.9742\n",
      "Epoch 86/100\n",
      "132/132 [==============================] - ETA: 0s - loss: 0.0699 - accuracy: 0.9741\n",
      "Epoch 86: val_loss did not improve from 0.00704\n",
      "132/132 [==============================] - 84s 639ms/step - loss: 0.0699 - accuracy: 0.9741 - val_loss: 0.0690 - val_accuracy: 0.9742\n",
      "Epoch 87/100\n",
      "132/132 [==============================] - ETA: 0s - loss: 0.1514 - accuracy: 0.9392\n",
      "Epoch 87: val_loss did not improve from 0.00704\n",
      "132/132 [==============================] - 84s 638ms/step - loss: 0.1514 - accuracy: 0.9392 - val_loss: 0.0259 - val_accuracy: 0.9897\n",
      "Epoch 88/100\n",
      "132/132 [==============================] - ETA: 0s - loss: 0.0777 - accuracy: 0.9734\n",
      "Epoch 88: val_loss did not improve from 0.00704\n",
      "132/132 [==============================] - 84s 636ms/step - loss: 0.0777 - accuracy: 0.9734 - val_loss: 0.0379 - val_accuracy: 0.9794\n",
      "Epoch 89/100\n",
      "132/132 [==============================] - ETA: 0s - loss: 0.0908 - accuracy: 0.9726\n",
      "Epoch 89: val_loss did not improve from 0.00704\n",
      "132/132 [==============================] - 85s 640ms/step - loss: 0.0908 - accuracy: 0.9726 - val_loss: 0.0206 - val_accuracy: 0.9948\n",
      "Epoch 90/100\n",
      "132/132 [==============================] - ETA: 0s - loss: 0.0841 - accuracy: 0.9688\n",
      "Epoch 90: val_loss did not improve from 0.00704\n",
      "132/132 [==============================] - 85s 640ms/step - loss: 0.0841 - accuracy: 0.9688 - val_loss: 0.0247 - val_accuracy: 0.9948\n",
      "Epoch 91/100\n",
      "132/132 [==============================] - ETA: 0s - loss: 0.0791 - accuracy: 0.9711\n",
      "Epoch 91: val_loss improved from 0.00704 to 0.00694, saving model to model-091.model\n"
     ]
    },
    {
     "name": "stderr",
     "output_type": "stream",
     "text": [
      "WARNING:absl:Found untraced functions such as _jit_compiled_convolution_op, _jit_compiled_convolution_op, _update_step_xla while saving (showing 3 of 3). These functions will not be directly callable after loading.\n"
     ]
    },
    {
     "name": "stdout",
     "output_type": "stream",
     "text": [
      "INFO:tensorflow:Assets written to: model-091.model\\assets\n"
     ]
    },
    {
     "name": "stderr",
     "output_type": "stream",
     "text": [
      "INFO:tensorflow:Assets written to: model-091.model\\assets\n"
     ]
    },
    {
     "name": "stdout",
     "output_type": "stream",
     "text": [
      "132/132 [==============================] - 95s 718ms/step - loss: 0.0791 - accuracy: 0.9711 - val_loss: 0.0069 - val_accuracy: 1.0000\n",
      "Epoch 92/100\n",
      "132/132 [==============================] - ETA: 0s - loss: 0.0904 - accuracy: 0.9665\n",
      "Epoch 92: val_loss did not improve from 0.00694\n",
      "132/132 [==============================] - 127s 963ms/step - loss: 0.0904 - accuracy: 0.9665 - val_loss: 0.0183 - val_accuracy: 0.9948\n",
      "Epoch 93/100\n",
      "132/132 [==============================] - ETA: 0s - loss: 0.0858 - accuracy: 0.9696\n",
      "Epoch 93: val_loss did not improve from 0.00694\n",
      "132/132 [==============================] - 84s 636ms/step - loss: 0.0858 - accuracy: 0.9696 - val_loss: 0.1268 - val_accuracy: 0.9433\n",
      "Epoch 94/100\n",
      "132/132 [==============================] - ETA: 0s - loss: 0.0780 - accuracy: 0.9711\n",
      "Epoch 94: val_loss did not improve from 0.00694\n",
      "132/132 [==============================] - 84s 638ms/step - loss: 0.0780 - accuracy: 0.9711 - val_loss: 0.0522 - val_accuracy: 0.9588\n",
      "Epoch 95/100\n",
      "132/132 [==============================] - ETA: 0s - loss: 0.0861 - accuracy: 0.9643\n",
      "Epoch 95: val_loss did not improve from 0.00694\n",
      "132/132 [==============================] - 85s 641ms/step - loss: 0.0861 - accuracy: 0.9643 - val_loss: 0.0268 - val_accuracy: 0.9948\n",
      "Epoch 96/100\n",
      "132/132 [==============================] - ETA: 0s - loss: 0.0748 - accuracy: 0.9734\n",
      "Epoch 96: val_loss did not improve from 0.00694\n",
      "132/132 [==============================] - 84s 636ms/step - loss: 0.0748 - accuracy: 0.9734 - val_loss: 0.0652 - val_accuracy: 0.9794\n",
      "Epoch 97/100\n",
      "132/132 [==============================] - ETA: 0s - loss: 0.0621 - accuracy: 0.9764\n",
      "Epoch 97: val_loss did not improve from 0.00694\n",
      "132/132 [==============================] - 84s 639ms/step - loss: 0.0621 - accuracy: 0.9764 - val_loss: 0.0143 - val_accuracy: 1.0000\n",
      "Epoch 98/100\n",
      "132/132 [==============================] - ETA: 0s - loss: 0.0675 - accuracy: 0.9757\n",
      "Epoch 98: val_loss improved from 0.00694 to 0.00555, saving model to model-098.model\n"
     ]
    },
    {
     "name": "stderr",
     "output_type": "stream",
     "text": [
      "WARNING:absl:Found untraced functions such as _jit_compiled_convolution_op, _jit_compiled_convolution_op, _update_step_xla while saving (showing 3 of 3). These functions will not be directly callable after loading.\n"
     ]
    },
    {
     "name": "stdout",
     "output_type": "stream",
     "text": [
      "INFO:tensorflow:Assets written to: model-098.model\\assets\n"
     ]
    },
    {
     "name": "stderr",
     "output_type": "stream",
     "text": [
      "INFO:tensorflow:Assets written to: model-098.model\\assets\n"
     ]
    },
    {
     "name": "stdout",
     "output_type": "stream",
     "text": [
      "132/132 [==============================] - 86s 649ms/step - loss: 0.0675 - accuracy: 0.9757 - val_loss: 0.0056 - val_accuracy: 1.0000\n",
      "Epoch 99/100\n",
      "132/132 [==============================] - ETA: 0s - loss: 0.0751 - accuracy: 0.9734\n",
      "Epoch 99: val_loss did not improve from 0.00555\n",
      "132/132 [==============================] - 381s 3s/step - loss: 0.0751 - accuracy: 0.9734 - val_loss: 0.0836 - val_accuracy: 0.9639\n",
      "Epoch 100/100\n",
      "132/132 [==============================] - ETA: 0s - loss: 0.0926 - accuracy: 0.9665\n",
      "Epoch 100: val_loss did not improve from 0.00555\n",
      "132/132 [==============================] - 94s 713ms/step - loss: 0.0926 - accuracy: 0.9665 - val_loss: 0.0064 - val_accuracy: 1.0000\n"
     ]
    }
   ],
   "source": [
    "history=model.fit(training_set,epochs=100,validation_data=testing_set,callbacks=[checkpoint])"
   ]
  },
  {
   "cell_type": "code",
   "execution_count": 16,
   "id": "44fd1e71",
   "metadata": {},
   "outputs": [
    {
     "data": {
      "image/png": "[encoded data removed]",
      "text/plain": [
       "<Figure size 640x480 with 1 Axes>"
      ]
     },
     "metadata": {},
     "output_type": "display_data"
    }
   ],
   "source": [
    "plt.plot(history.history['loss'],'red',label='Training loss')\n",
    "plt.plot(history.history['val_loss'],label='Validation loss')\n",
    "plt.title('Training and Validation Loss')\n",
    "plt.xlabel('Epochs')\n",
    "plt.ylabel('Loss')\n",
    "plt.legend()\n",
    "plt.show()"
   ]
  },
  {
   "cell_type": "code",
   "execution_count": 17,
   "id": "93dadcb4",
   "metadata": {},
   "outputs": [
    {
     "data": {
      "image/png": "[encoded data removed]",
      "text/plain": [
       "<Figure size 640x480 with 1 Axes>"
      ]
     },
     "metadata": {},
     "output_type": "display_data"
    }
   ],
   "source": [
    "plt.plot(history.history['accuracy'],'red',label='Training accuracy')\n",
    "plt.plot(history.history['val_accuracy'],label='Validation accuracy')\n",
    "plt.title('Training and Validation Accuracy')\n",
    "plt.xlabel('Epochs')\n",
    "plt.ylabel('Accuracy')\n",
    "plt.legend()\n",
    "plt.show()"
   ]
  },
  {
   "cell_type": "code",
   "execution_count": null,
   "id": "334c192f",
   "metadata": {},
   "outputs": [],
   "source": []
  }
 ],
 "metadata": {
  "kernelspec": {
   "display_name": "Python 3 (ipykernel)",
   "language": "python",
   "name": "python3"
  },
  "language_info": {
   "codemirror_mode": {
    "name": "ipython",
    "version": 3
   },
   "file_extension": ".py",
   "mimetype": "text/x-python",
   "name": "python",
   "nbconvert_exporter": "python",
   "pygments_lexer": "ipython3",
   "version": "3.10.9"
  }
 },
 "nbformat": 4,
 "nbformat_minor": 5
}
